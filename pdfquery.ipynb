{
  "nbformat": 4,
  "nbformat_minor": 0,
  "metadata": {
    "colab": {
      "provenance": [],
      "authorship_tag": "ABX9TyMTIUdtNeZ+R2wcwyZAx2XM",
      "include_colab_link": true
    },
    "kernelspec": {
      "name": "python3",
      "display_name": "Python 3"
    },
    "language_info": {
      "name": "python"
    }
  },
  "cells": [
    {
      "cell_type": "markdown",
      "metadata": {
        "id": "view-in-github",
        "colab_type": "text"
      },
      "source": [
        "<a href=\"https://colab.research.google.com/github/GundetiManoj99/pdfquerys/blob/main/pdfquery.ipynb\" target=\"_parent\"><img src=\"https://colab.research.google.com/assets/colab-badge.svg\" alt=\"Open In Colab\"/></a>"
      ]
    },
    {
      "cell_type": "code",
      "execution_count": 5,
      "metadata": {
        "id": "gCd9DXBvp17Z"
      },
      "outputs": [],
      "source": [
        "!pip install -q cassio datasets langchain openai tiktoken"
      ]
    },
    {
      "cell_type": "code",
      "source": [
        "!pip install -U langchain-community"
      ],
      "metadata": {
        "colab": {
          "base_uri": "https://localhost:8080/"
        },
        "id": "dlPRI7NkLFgj",
        "outputId": "1be5d54d-7514-40c5-fae5-c6a3fc1d40e8"
      },
      "execution_count": 9,
      "outputs": [
        {
          "output_type": "stream",
          "name": "stdout",
          "text": [
            "Collecting langchain-community\n",
            "  Downloading langchain_community-0.2.16-py3-none-any.whl.metadata (2.7 kB)\n",
            "Requirement already satisfied: PyYAML>=5.3 in /usr/local/lib/python3.10/dist-packages (from langchain-community) (6.0.2)\n",
            "Requirement already satisfied: SQLAlchemy<3,>=1.4 in /usr/local/lib/python3.10/dist-packages (from langchain-community) (2.0.32)\n",
            "Requirement already satisfied: aiohttp<4.0.0,>=3.8.3 in /usr/local/lib/python3.10/dist-packages (from langchain-community) (3.10.5)\n",
            "Collecting dataclasses-json<0.7,>=0.5.7 (from langchain-community)\n",
            "  Downloading dataclasses_json-0.6.7-py3-none-any.whl.metadata (25 kB)\n",
            "Requirement already satisfied: langchain<0.3.0,>=0.2.16 in /usr/local/lib/python3.10/dist-packages (from langchain-community) (0.2.16)\n",
            "Requirement already satisfied: langchain-core<0.3.0,>=0.2.38 in /usr/local/lib/python3.10/dist-packages (from langchain-community) (0.2.38)\n",
            "Requirement already satisfied: langsmith<0.2.0,>=0.1.0 in /usr/local/lib/python3.10/dist-packages (from langchain-community) (0.1.117)\n",
            "Requirement already satisfied: numpy<2,>=1 in /usr/local/lib/python3.10/dist-packages (from langchain-community) (1.26.4)\n",
            "Requirement already satisfied: requests<3,>=2 in /usr/local/lib/python3.10/dist-packages (from langchain-community) (2.32.3)\n",
            "Requirement already satisfied: tenacity!=8.4.0,<9.0.0,>=8.1.0 in /usr/local/lib/python3.10/dist-packages (from langchain-community) (8.5.0)\n",
            "Requirement already satisfied: aiohappyeyeballs>=2.3.0 in /usr/local/lib/python3.10/dist-packages (from aiohttp<4.0.0,>=3.8.3->langchain-community) (2.4.0)\n",
            "Requirement already satisfied: aiosignal>=1.1.2 in /usr/local/lib/python3.10/dist-packages (from aiohttp<4.0.0,>=3.8.3->langchain-community) (1.3.1)\n",
            "Requirement already satisfied: attrs>=17.3.0 in /usr/local/lib/python3.10/dist-packages (from aiohttp<4.0.0,>=3.8.3->langchain-community) (24.2.0)\n",
            "Requirement already satisfied: frozenlist>=1.1.1 in /usr/local/lib/python3.10/dist-packages (from aiohttp<4.0.0,>=3.8.3->langchain-community) (1.4.1)\n",
            "Requirement already satisfied: multidict<7.0,>=4.5 in /usr/local/lib/python3.10/dist-packages (from aiohttp<4.0.0,>=3.8.3->langchain-community) (6.0.5)\n",
            "Requirement already satisfied: yarl<2.0,>=1.0 in /usr/local/lib/python3.10/dist-packages (from aiohttp<4.0.0,>=3.8.3->langchain-community) (1.9.4)\n",
            "Requirement already satisfied: async-timeout<5.0,>=4.0 in /usr/local/lib/python3.10/dist-packages (from aiohttp<4.0.0,>=3.8.3->langchain-community) (4.0.3)\n",
            "Collecting marshmallow<4.0.0,>=3.18.0 (from dataclasses-json<0.7,>=0.5.7->langchain-community)\n",
            "  Downloading marshmallow-3.22.0-py3-none-any.whl.metadata (7.2 kB)\n",
            "Collecting typing-inspect<1,>=0.4.0 (from dataclasses-json<0.7,>=0.5.7->langchain-community)\n",
            "  Downloading typing_inspect-0.9.0-py3-none-any.whl.metadata (1.5 kB)\n",
            "Requirement already satisfied: langchain-text-splitters<0.3.0,>=0.2.0 in /usr/local/lib/python3.10/dist-packages (from langchain<0.3.0,>=0.2.16->langchain-community) (0.2.4)\n",
            "Requirement already satisfied: pydantic<3,>=1 in /usr/local/lib/python3.10/dist-packages (from langchain<0.3.0,>=0.2.16->langchain-community) (2.8.2)\n",
            "Requirement already satisfied: jsonpatch<2.0,>=1.33 in /usr/local/lib/python3.10/dist-packages (from langchain-core<0.3.0,>=0.2.38->langchain-community) (1.33)\n",
            "Requirement already satisfied: packaging<25,>=23.2 in /usr/local/lib/python3.10/dist-packages (from langchain-core<0.3.0,>=0.2.38->langchain-community) (24.1)\n",
            "Requirement already satisfied: typing-extensions>=4.7 in /usr/local/lib/python3.10/dist-packages (from langchain-core<0.3.0,>=0.2.38->langchain-community) (4.12.2)\n",
            "Requirement already satisfied: httpx<1,>=0.23.0 in /usr/local/lib/python3.10/dist-packages (from langsmith<0.2.0,>=0.1.0->langchain-community) (0.27.2)\n",
            "Requirement already satisfied: orjson<4.0.0,>=3.9.14 in /usr/local/lib/python3.10/dist-packages (from langsmith<0.2.0,>=0.1.0->langchain-community) (3.10.7)\n",
            "Requirement already satisfied: charset-normalizer<4,>=2 in /usr/local/lib/python3.10/dist-packages (from requests<3,>=2->langchain-community) (3.3.2)\n",
            "Requirement already satisfied: idna<4,>=2.5 in /usr/local/lib/python3.10/dist-packages (from requests<3,>=2->langchain-community) (3.8)\n",
            "Requirement already satisfied: urllib3<3,>=1.21.1 in /usr/local/lib/python3.10/dist-packages (from requests<3,>=2->langchain-community) (2.0.7)\n",
            "Requirement already satisfied: certifi>=2017.4.17 in /usr/local/lib/python3.10/dist-packages (from requests<3,>=2->langchain-community) (2024.8.30)\n",
            "Requirement already satisfied: greenlet!=0.4.17 in /usr/local/lib/python3.10/dist-packages (from SQLAlchemy<3,>=1.4->langchain-community) (3.0.3)\n",
            "Requirement already satisfied: anyio in /usr/local/lib/python3.10/dist-packages (from httpx<1,>=0.23.0->langsmith<0.2.0,>=0.1.0->langchain-community) (3.7.1)\n",
            "Requirement already satisfied: httpcore==1.* in /usr/local/lib/python3.10/dist-packages (from httpx<1,>=0.23.0->langsmith<0.2.0,>=0.1.0->langchain-community) (1.0.5)\n",
            "Requirement already satisfied: sniffio in /usr/local/lib/python3.10/dist-packages (from httpx<1,>=0.23.0->langsmith<0.2.0,>=0.1.0->langchain-community) (1.3.1)\n",
            "Requirement already satisfied: h11<0.15,>=0.13 in /usr/local/lib/python3.10/dist-packages (from httpcore==1.*->httpx<1,>=0.23.0->langsmith<0.2.0,>=0.1.0->langchain-community) (0.14.0)\n",
            "Requirement already satisfied: jsonpointer>=1.9 in /usr/local/lib/python3.10/dist-packages (from jsonpatch<2.0,>=1.33->langchain-core<0.3.0,>=0.2.38->langchain-community) (3.0.0)\n",
            "Requirement already satisfied: annotated-types>=0.4.0 in /usr/local/lib/python3.10/dist-packages (from pydantic<3,>=1->langchain<0.3.0,>=0.2.16->langchain-community) (0.7.0)\n",
            "Requirement already satisfied: pydantic-core==2.20.1 in /usr/local/lib/python3.10/dist-packages (from pydantic<3,>=1->langchain<0.3.0,>=0.2.16->langchain-community) (2.20.1)\n",
            "Collecting mypy-extensions>=0.3.0 (from typing-inspect<1,>=0.4.0->dataclasses-json<0.7,>=0.5.7->langchain-community)\n",
            "  Downloading mypy_extensions-1.0.0-py3-none-any.whl.metadata (1.1 kB)\n",
            "Requirement already satisfied: exceptiongroup in /usr/local/lib/python3.10/dist-packages (from anyio->httpx<1,>=0.23.0->langsmith<0.2.0,>=0.1.0->langchain-community) (1.2.2)\n",
            "Downloading langchain_community-0.2.16-py3-none-any.whl (2.3 MB)\n",
            "\u001b[2K   \u001b[90m━━━━━━━━━━━━━━━━━━━━━━━━━━━━━━━━━━━━━━━━\u001b[0m \u001b[32m2.3/2.3 MB\u001b[0m \u001b[31m52.2 MB/s\u001b[0m eta \u001b[36m0:00:00\u001b[0m\n",
            "\u001b[?25hDownloading dataclasses_json-0.6.7-py3-none-any.whl (28 kB)\n",
            "Downloading marshmallow-3.22.0-py3-none-any.whl (49 kB)\n",
            "\u001b[2K   \u001b[90m━━━━━━━━━━━━━━━━━━━━━━━━━━━━━━━━━━━━━━━━\u001b[0m \u001b[32m49.3/49.3 kB\u001b[0m \u001b[31m4.3 MB/s\u001b[0m eta \u001b[36m0:00:00\u001b[0m\n",
            "\u001b[?25hDownloading typing_inspect-0.9.0-py3-none-any.whl (8.8 kB)\n",
            "Downloading mypy_extensions-1.0.0-py3-none-any.whl (4.7 kB)\n",
            "Installing collected packages: mypy-extensions, marshmallow, typing-inspect, dataclasses-json, langchain-community\n",
            "Successfully installed dataclasses-json-0.6.7 langchain-community-0.2.16 marshmallow-3.22.0 mypy-extensions-1.0.0 typing-inspect-0.9.0\n"
          ]
        }
      ]
    },
    {
      "cell_type": "code",
      "source": [
        "# LangChain components to use\n",
        "from langchain.vectorstores.cassandra import Cassandra\n",
        "from langchain.indexes.vectorstore import VectorStoreIndexWrapper\n",
        "from langchain.llms import OpenAI\n",
        "from langchain.embeddings import OpenAIEmbeddings\n",
        "\n",
        "# Support for dataset retrieval with Hugging Face\n",
        "from datasets import load_dataset\n",
        "\n",
        "# With CassIO, the engine powering the Astra DB integration in LangChain,\n",
        "# you will also initialize the DB connection:\n",
        "import cassio"
      ],
      "metadata": {
        "id": "CZp56N0NqIkE"
      },
      "execution_count": 10,
      "outputs": []
    },
    {
      "cell_type": "code",
      "source": [
        "!pip install PyPDF2"
      ],
      "metadata": {
        "id": "__cwtwc_qKlu",
        "colab": {
          "base_uri": "https://localhost:8080/"
        },
        "outputId": "72054c8c-bd48-4463-bb74-c9d9fa16dbef"
      },
      "execution_count": 11,
      "outputs": [
        {
          "output_type": "stream",
          "name": "stdout",
          "text": [
            "Collecting PyPDF2\n",
            "  Downloading pypdf2-3.0.1-py3-none-any.whl.metadata (6.8 kB)\n",
            "Downloading pypdf2-3.0.1-py3-none-any.whl (232 kB)\n",
            "\u001b[?25l   \u001b[90m━━━━━━━━━━━━━━━━━━━━━━━━━━━━━━━━━━━━━━━━\u001b[0m \u001b[32m0.0/232.6 kB\u001b[0m \u001b[31m?\u001b[0m eta \u001b[36m-:--:--\u001b[0m\r\u001b[2K   \u001b[90m━━━━━━━━━━━━━━━━━━━━━━━━━━━━━━━━━━━━━━━━\u001b[0m \u001b[32m232.6/232.6 kB\u001b[0m \u001b[31m11.4 MB/s\u001b[0m eta \u001b[36m0:00:00\u001b[0m\n",
            "\u001b[?25hInstalling collected packages: PyPDF2\n",
            "Successfully installed PyPDF2-3.0.1\n"
          ]
        }
      ]
    },
    {
      "cell_type": "code",
      "source": [
        "from PyPDF2 import PdfReader"
      ],
      "metadata": {
        "id": "wAJmVqGeqNnv"
      },
      "execution_count": 12,
      "outputs": []
    },
    {
      "cell_type": "code",
      "source": [
        "ASTRA_DB_APPLICATION_TOKEN = \"AstraCS:jeZOqGyohwmlkCXMtcwhUFZh:f41e4d0fcb8bcffab9af1df1d2839c459ccbebf84f693ba3473e12f146775ae8\"\n",
        "ASTRA_DB_ID = \"bbd69670-7e35-4b31-bdb8-55896259e8b2\"\n",
        "\n",
        "OPENAI_API_KEY = \"sk-proj-***************************************\""
      ],
      "metadata": {
        "id": "Vfc6g1LPqT_f"
      },
      "execution_count": 27,
      "outputs": []
    },
    {
      "cell_type": "code",
      "source": [
        "!pip install --upgrade astrapy"
      ],
      "metadata": {
        "colab": {
          "base_uri": "https://localhost:8080/"
        },
        "id": "6Ml_TARJMWbC",
        "outputId": "4bd3dee6-1877-44f8-ac1b-5e439514d001"
      },
      "execution_count": 21,
      "outputs": [
        {
          "output_type": "stream",
          "name": "stdout",
          "text": [
            "Collecting astrapy\n",
            "  Downloading astrapy-1.4.2-py3-none-any.whl.metadata (18 kB)\n",
            "Requirement already satisfied: cassio<0.2.0,>=0.1.4 in /usr/local/lib/python3.10/dist-packages (from astrapy) (0.1.8)\n",
            "Collecting deprecation<2.2.0,>=2.1.0 (from astrapy)\n",
            "  Downloading deprecation-2.1.0-py2.py3-none-any.whl.metadata (4.6 kB)\n",
            "Requirement already satisfied: httpx<1,>=0.25.2 in /usr/local/lib/python3.10/dist-packages (from httpx[http2]<1,>=0.25.2->astrapy) (0.27.2)\n",
            "Collecting pymongo>=3 (from astrapy)\n",
            "  Downloading pymongo-4.8.0-cp310-cp310-manylinux_2_17_x86_64.manylinux2014_x86_64.whl.metadata (22 kB)\n",
            "Requirement already satisfied: toml<0.11.0,>=0.10.2 in /usr/local/lib/python3.10/dist-packages (from astrapy) (0.10.2)\n",
            "Collecting uuid6>=2024.1.12 (from astrapy)\n",
            "  Downloading uuid6-2024.7.10-py3-none-any.whl.metadata (8.6 kB)\n",
            "Requirement already satisfied: cassandra-driver<4.0.0,>=3.28.0 in /usr/local/lib/python3.10/dist-packages (from cassio<0.2.0,>=0.1.4->astrapy) (3.29.2)\n",
            "Requirement already satisfied: numpy>=1.0 in /usr/local/lib/python3.10/dist-packages (from cassio<0.2.0,>=0.1.4->astrapy) (1.26.4)\n",
            "Requirement already satisfied: requests<3.0.0,>=2.31.0 in /usr/local/lib/python3.10/dist-packages (from cassio<0.2.0,>=0.1.4->astrapy) (2.32.3)\n",
            "Requirement already satisfied: packaging in /usr/local/lib/python3.10/dist-packages (from deprecation<2.2.0,>=2.1.0->astrapy) (24.1)\n",
            "Requirement already satisfied: anyio in /usr/local/lib/python3.10/dist-packages (from httpx<1,>=0.25.2->httpx[http2]<1,>=0.25.2->astrapy) (3.7.1)\n",
            "Requirement already satisfied: certifi in /usr/local/lib/python3.10/dist-packages (from httpx<1,>=0.25.2->httpx[http2]<1,>=0.25.2->astrapy) (2024.8.30)\n",
            "Requirement already satisfied: httpcore==1.* in /usr/local/lib/python3.10/dist-packages (from httpx<1,>=0.25.2->httpx[http2]<1,>=0.25.2->astrapy) (1.0.5)\n",
            "Requirement already satisfied: idna in /usr/local/lib/python3.10/dist-packages (from httpx<1,>=0.25.2->httpx[http2]<1,>=0.25.2->astrapy) (3.8)\n",
            "Requirement already satisfied: sniffio in /usr/local/lib/python3.10/dist-packages (from httpx<1,>=0.25.2->httpx[http2]<1,>=0.25.2->astrapy) (1.3.1)\n",
            "Requirement already satisfied: h11<0.15,>=0.13 in /usr/local/lib/python3.10/dist-packages (from httpcore==1.*->httpx<1,>=0.25.2->httpx[http2]<1,>=0.25.2->astrapy) (0.14.0)\n",
            "Collecting h2<5,>=3 (from httpx[http2]<1,>=0.25.2->astrapy)\n",
            "  Downloading h2-4.1.0-py3-none-any.whl.metadata (3.6 kB)\n",
            "Collecting dnspython<3.0.0,>=1.16.0 (from pymongo>=3->astrapy)\n",
            "  Downloading dnspython-2.6.1-py3-none-any.whl.metadata (5.8 kB)\n",
            "Requirement already satisfied: geomet<0.3,>=0.1 in /usr/local/lib/python3.10/dist-packages (from cassandra-driver<4.0.0,>=3.28.0->cassio<0.2.0,>=0.1.4->astrapy) (0.2.1.post1)\n",
            "Collecting hyperframe<7,>=6.0 (from h2<5,>=3->httpx[http2]<1,>=0.25.2->astrapy)\n",
            "  Downloading hyperframe-6.0.1-py3-none-any.whl.metadata (2.7 kB)\n",
            "Collecting hpack<5,>=4.0 (from h2<5,>=3->httpx[http2]<1,>=0.25.2->astrapy)\n",
            "  Downloading hpack-4.0.0-py3-none-any.whl.metadata (2.5 kB)\n",
            "Requirement already satisfied: charset-normalizer<4,>=2 in /usr/local/lib/python3.10/dist-packages (from requests<3.0.0,>=2.31.0->cassio<0.2.0,>=0.1.4->astrapy) (3.3.2)\n",
            "Requirement already satisfied: urllib3<3,>=1.21.1 in /usr/local/lib/python3.10/dist-packages (from requests<3.0.0,>=2.31.0->cassio<0.2.0,>=0.1.4->astrapy) (2.0.7)\n",
            "Requirement already satisfied: exceptiongroup in /usr/local/lib/python3.10/dist-packages (from anyio->httpx<1,>=0.25.2->httpx[http2]<1,>=0.25.2->astrapy) (1.2.2)\n",
            "Requirement already satisfied: click in /usr/local/lib/python3.10/dist-packages (from geomet<0.3,>=0.1->cassandra-driver<4.0.0,>=3.28.0->cassio<0.2.0,>=0.1.4->astrapy) (8.1.7)\n",
            "Requirement already satisfied: six in /usr/local/lib/python3.10/dist-packages (from geomet<0.3,>=0.1->cassandra-driver<4.0.0,>=3.28.0->cassio<0.2.0,>=0.1.4->astrapy) (1.16.0)\n",
            "Downloading astrapy-1.4.2-py3-none-any.whl (159 kB)\n",
            "\u001b[2K   \u001b[90m━━━━━━━━━━━━━━━━━━━━━━━━━━━━━━━━━━━━━━━━\u001b[0m \u001b[32m159.6/159.6 kB\u001b[0m \u001b[31m14.2 MB/s\u001b[0m eta \u001b[36m0:00:00\u001b[0m\n",
            "\u001b[?25hDownloading deprecation-2.1.0-py2.py3-none-any.whl (11 kB)\n",
            "Downloading pymongo-4.8.0-cp310-cp310-manylinux_2_17_x86_64.manylinux2014_x86_64.whl (1.2 MB)\n",
            "\u001b[2K   \u001b[90m━━━━━━━━━━━━━━━━━━━━━━━━━━━━━━━━━━━━━━━━\u001b[0m \u001b[32m1.2/1.2 MB\u001b[0m \u001b[31m56.0 MB/s\u001b[0m eta \u001b[36m0:00:00\u001b[0m\n",
            "\u001b[?25hDownloading uuid6-2024.7.10-py3-none-any.whl (6.4 kB)\n",
            "Downloading dnspython-2.6.1-py3-none-any.whl (307 kB)\n",
            "\u001b[2K   \u001b[90m━━━━━━━━━━━━━━━━━━━━━━━━━━━━━━━━━━━━━━━━\u001b[0m \u001b[32m307.7/307.7 kB\u001b[0m \u001b[31m20.7 MB/s\u001b[0m eta \u001b[36m0:00:00\u001b[0m\n",
            "\u001b[?25hDownloading h2-4.1.0-py3-none-any.whl (57 kB)\n",
            "\u001b[2K   \u001b[90m━━━━━━━━━━━━━━━━━━━━━━━━━━━━━━━━━━━━━━━━\u001b[0m \u001b[32m57.5/57.5 kB\u001b[0m \u001b[31m5.2 MB/s\u001b[0m eta \u001b[36m0:00:00\u001b[0m\n",
            "\u001b[?25hDownloading hpack-4.0.0-py3-none-any.whl (32 kB)\n",
            "Downloading hyperframe-6.0.1-py3-none-any.whl (12 kB)\n",
            "Installing collected packages: uuid6, hyperframe, hpack, dnspython, deprecation, pymongo, h2, astrapy\n",
            "Successfully installed astrapy-1.4.2 deprecation-2.1.0 dnspython-2.6.1 h2-4.1.0 hpack-4.0.0 hyperframe-6.0.1 pymongo-4.8.0 uuid6-2024.7.10\n"
          ]
        }
      ]
    },
    {
      "cell_type": "code",
      "source": [
        "pdfreader = PdfReader('test.pdf')"
      ],
      "metadata": {
        "id": "AnzAR3VHqgLH"
      },
      "execution_count": 15,
      "outputs": []
    },
    {
      "cell_type": "code",
      "source": [
        "from typing_extensions import Concatenate\n",
        "# read text from pdf\n",
        "raw_text = ''\n",
        "for i, page in enumerate(pdfreader.pages):\n",
        "    content = page.extract_text()\n",
        "    if content:\n",
        "        raw_text += content"
      ],
      "metadata": {
        "id": "lN4LLPIsqkPZ"
      },
      "execution_count": 16,
      "outputs": []
    },
    {
      "cell_type": "code",
      "source": [
        "raw_text"
      ],
      "metadata": {
        "id": "jUANQfQ9qmzK",
        "colab": {
          "base_uri": "https://localhost:8080/",
          "height": 140
        },
        "outputId": "223d417f-7a0a-4069-ef68-0576f3a00713"
      },
      "execution_count": 17,
      "outputs": [
        {
          "output_type": "execute_result",
          "data": {
            "text/plain": [
              "'Generating FlavorMoleculesUsingScientificMachineLearning\\nLuanaP.Queiroz,CarineM.Rebello,ErbetA.Costa,ViníciusV.Santana,BrunoC.L.Rodrigues,\\nAlírioE.Rodrigues, AnaM.Ribeiro,andIdelfonso B.R.Nogueira*\\nCiteThis:ACSOmega2023,8,10875−10887\\n ReadOnline\\nACCESS\\n Metrics &More\\n Article Recommendations +sıSupporting Information\\nABSTRACT: Flavorisanessentialcomponent inthedevelop-\\nmentofnumerous products inthemarket.Theincreasing\\nconsumption ofprocessed andfastfoodandhealthypackaged\\nfoodhasupraised theinvestment innewflavoring agentsand\\nconsequently inmolecules withflavoring properties. Inthis\\ncontext, thisworkbringsupascientific machine learning\\n(SciML) approach toaddressthisproductengineering need.\\nSciMLincomputational chemistry hasopenedpathsinthe\\ncompound’s propertyprediction withoutrequiring synthesis. This\\nworkproposesanovelframework ofdeepgenerative modelswithin\\nthiscontexttodesignnewflavormolecules. Through theanalysis\\nandstudyofthemolecules obtained fromthegenerative model\\ntraining,itwaspossibletoconclude thateventhoughthegenerative modeldesignsthemolecules throughrandomsampling of\\nactions,itcanfindmolecules thatarealreadyusedinthefoodindustry,notnecessarily asaflavoringagent,orinotherindustrial\\nsectors.Hence,thiscorroborates thepotential oftheproposed methodology fortheprospecting ofmolecules tobeappliedinthe\\nflavorindustry.\\n1.INTRODUCTION\\nTheunderstanding anddevelopment offlavorresultfromtwo\\ndisparate butintertwined subjects, chemistry andsensory\\nscience,appliedbytheflavorists todevelopnewproducts.1\\nThechemical development offlavordepends onthe\\nunderstanding ofhowthechemical compounds conveyflavor\\ntotheproduct.Thisiscarriedoutbyaimingtoreplicatetheir\\neffectonthebiological response. So,theunderline hypothesis\\nbehindthisisthatthereisacorrelation betweenthechemical\\nproperties ofagivencompound andtheprovoked flavor\\nsensation. However, thecreationandreplication offlavor(the\\nengineering behindit)arecomplex, asitmustevokethesmell\\nandtastesimultaneously, amultisensory experience.2Inthis\\nscenario, flavorengineering hasemergedasafieldofproduct\\nengineering thataimstofulfilltheneedsofthemarketand\\nconsumers throughthedevelopment ofnewflavorsandflavor-\\nbasedproducts.3Thisisanewfieldthatneedsmoreprofound\\ndevelopment tosupplynewtoolstothisindustry. Flavor\\nengineering canhelpthissectordevelopnewproductstodeal\\nwiththemodernsociety’shealthystylewhileaddressing several\\notherconcerns foundintheindustrynowadays.\\nExperimental studiesinflavorengineering wereperformed\\nbyMonteiro etal.(2018).4Thesensoryqualityofflavor-based\\nproductswasanalyzed, alongside theirpsychophysical models,\\nthroughchromatographic techniques. Theappliedmethod-\\nologyallowedustoevaluatedominant featuresofaromasand,\\nalso,asensorial evaluation. Inthesamecontext,theworkof\\nRodrigues etal.(2021)3bringsonareviewofthedevelopments inperformance, classification, andthedesign\\nofmixtures offragrances andperfumes. Inthisreview,an\\napproach forflavorengineering isproposed, beinganextension\\noftheoneforperfumeengineering.\\nNaturehasapproximately 2500flavorchemicals thatcanbe\\nreplicated byothersynthetic molecules. Therecreation and\\nanalysisofthesechemicals allowthediscovery ofsynthetic\\nflavorsthatarestable,cost-effectively produced, purer,and\\nmorepotent.Eventhoughthepossibilities arevast,the\\ncomplexity ofcombining themolecules thatcantranslatethe\\nrightsensation asanervesignalisatrial-and-error process.2\\nMoreover, theflavorandflavor-based productdevelopment\\nmustconsider theapplicable lawandregulations, the\\nassociated healthissues,andtheenvironmental damagethat\\nthesynthetic chemicals processcancause.5Hence,flavor\\ndevelopment iscostlyandcanbeconsiderably reducedby\\nemploying newtechnologies. Therefore, scientific machine\\nlearning(SciML)canbringanewperspective tothisprocess.\\nSciMLisanotheremergent fieldthataimstoadaptmachine\\nlearning(ML)toolstoagivenapplication domain.Ithasbeen\\nappliedasanefficientandresource-saving methodingeneral\\nReceived: November 7,2022\\nAccepted: March3,2023\\nPublished: March15,2023\\nArticle http://pubs.acs.org/journal/acsodf\\n©2023TheAuthors.Publishedby\\nAmericanChemicalSociety\\n10875https://doi.org/10.1021/acsomega.2c07176\\nACSOmega2023,8,10875−10887\\ngameplaying,datamining,bioinformatics, andcomputational\\nchemistry.6Anotherimportant development inSciMListhe\\nimplementation ofthistechnique inmathematical physicsto\\nsolvecomputational mechanics problems. Samaniego etal.\\n(2020)7proposed theapplication ofSciMLtechniques tosolve\\npartialdifferential equations asanapproach tosolveengineer-\\ningproblems. Theapplication ofmachine learning and\\ncomputer scienceinchemistry hasincreased significantly. It\\nispromising indesigning, synthesizing, andgenerating\\nmolecules andmaterials.8Morespecifically, ashybut\\nincreasing trendinapplyingMLtoolscanbeseeninflavors.\\nParketal.(2021)9proposed amethodology toinnovatethe\\nfoodindustry focusedonfoodpairing.FlavorGraph is\\npresented asagraphembedding methodtorecommend food\\npairingsbasedonfoodrepresentations. Although itpresents\\nlimitations onthefood-related information availableandthe\\nlackofscientific evaluation oftheresultsobtained, the\\nFlavorGraph presents aninnovative application ofdeep\\nlearningintheflavorindustry. Xu(2019)10developed a\\nbachelor’s thesisthatcombined agenerative adversarial\\nnetwork (GAN)withavariational autoencoder (VAE)to\\nanalyzearecipedatabaseanddiscoverthemissingingredient\\nofrecipes.Thereferredworkpresented remarkable resultsin\\nclustering recipesofthesamegeo-ethnic cuisinegroupand\\nsearching fortheingredients. Nevertheless, thepresented\\ntechnology cannotextractormanipulate structures sincethe\\nmodelcollapses.\\nEventhoughthereareapplications ofSciMLintheflavor\\nengineering field,worksthatexplorethepotentialofSciMLin\\nthedevelopment ofnewflavorsandflavorymolecules werenot\\nyetfound.TheuseofSciMLinthispotential fieldcanbea\\nusefultoolinthesolutionofthechallenges alreadydescribed.\\nThesetoolscanbeusedasasimpleandreliablewaytoidentify\\nnewchemical molecules thatcanbesynthesized and\\nconsidered natural.ThesearetwospecificgoalsthatSciML\\ncanaddressmuchfasterthantheusualroutes.Itispossibleto\\nfindsomeworksinotherfieldsthatmakeuseofSciMLto\\nprospectnewelements foragivenapplication. Forexample,\\nMercado etal.(2021)11developed aplatform todesign\\nmolecules usingdeepneuralnetwork architectures, the\\nGraphINVENT. However, inthefieldofflavorengineering,\\nthesetoolsneedtobereshaped tomeetthisdomain’s specific\\ndemands. Furthermore, newstrategies needtobedeveloped to\\nefficiently applytheseideasinflavorengineering. Forinstance,\\nthelimitedinformation regarding theflavorofchemical\\ncompounds isachallenge toconsider.\\nTheworkofZhangetal.(2021)12compared numerous\\ndeepmolecular generative models, including CharRNN,\\nREINVENT, AAE,VAE,ORGAN, LatentGAN andGraph-\\nINVENT. Forthisstudy,theauthorstrainedallthementioned\\nmodelsusingtheGDB-13 database, adatabase ofdrug-like\\ncompounds. Intermsofoverallcompound coverage,\\nREINVENT wasthebestmodel,andORGAN presented the\\nlowestperformance. TheGraphINVENT methodperformed\\nbetterthanalltheotherdeepgenerative models(DGMs)\\nstudiedwhenconsidering theringsystemandfunctional group\\ncoverage. Thisresultisexplained throughtheprobabilistic\\nsampling ofactionsforgraphgeneration ofthismodel.\\nMeanwhile, theGAN-based modelspresented theworst\\nperformance inallthreemetricsanalyzed, theringsystem,\\nfunctional group,andmolecular coverage. Thisresultis\\nexplained bythefactthatthegenerator inthosemodelsis\\nsupposed tocopythetruedataintheadversarial training,whichdecreases thegeneralization capability. Furthermore, it\\nisimportant tohighlight thatthealternative intheflavorfield\\nistofindnewmolecules bytrial-and-error; therefore,\\ndeveloping agenerative approach forthispurposeisalready\\nimproving thestateoftheart.\\nThisworkaimstodevelopanewstandpoint inflavor\\nengineering basedonSciML.Itisproposed tobuildanew\\napproach todevelopflavorsandflavor-based products based\\nongenerative neuralnetworkmodels.\\n2.METHODOLOGY ANDRESULTS\\n2.1.Database. Thedatabaseusedinthedevelopment of\\nthisworkwasextracted fromFlavorDB’s website13througha\\nwebscrapercodedeveloped forthispurpose. Theextracted\\ninformation consisted ofthePubChem ID,chemical name,\\nflavordescriptors ofthemolecule, andtheSMILES\\nrepresentation for921validmolecules. Moreover, adata\\ncuration stepwasautomatically performed toensurethe\\nqualityofthedatabaseandthatitonlyhadcanonical SMILES,\\nwhichisdescribed asfollows.\\nAnanalysisofthisdatabasewasperformed. Atotalof417\\nflavordescriptors werefound.Thefivemostcommon were\\nsweet,bitter,fruity,green,andfloral,following thisorder,\\nwhichaltogether occurred 1512times.Figure1presentsthe\\ndatabase’s 20mostcommon descriptors’ frequencies.\\nAco-occurrence heatmapwasmade,Figure2,to\\nunderstand therelationbetweenthedescriptors. Thisisan\\nimportant toolsincethesamemolecule canhavemorethan\\noneflavordescriptor associated. AsshowninFigure2,itis\\npossible tovisualize thefrequency oftheco-occurrence\\nbetweenthe20mostcommon descriptors. Also,itispossible\\ntoanalyzehowthedescriptors arecorrelated toeachother.For\\nexample, fruityco-occurs morewithsweetandgreen.This\\nanalysisisanimportant toolforflavorengineering, asit\\nprovidesinsightsintotheflavor’srelationship.\\nWiththedatabaseready,thenextstepistodefinetheinputs\\noftheproposed methodology. Asitspurposeistocreate\\nmolecules, theframework inputshouldbechemicalproperties,\\nsuchastypesofatoms,formalcharge,andthemaximum\\nnumberofatomspresentinthedatabase. Table1presentsthe\\nrequiredinformation, whichisdefinedfollowing theoverall\\nchemical properties foundinthedatabasebuilt.\\n2.2.GenerativeModel.DGMsarearesourceful approach\\ntoidentifypatternsoflikelihood betweensamplesandlearna\\nFigure1.Barplotofthe20mostcommon flavor’sdescriptors’\\nfrequency inthedatabase.ACSOmega http://pubs.acs.org/journal/acsodf Article\\nhttps://doi.org/10.1021/acsomega.2c07176\\nACSOmega2023,8,10875−1088710876concealed orcomplex probability distribution fromuncon-\\nstrainedandevenlydistributed samples.Thestructure ofthe\\nneuralnetworks withnumerous hiddenlayersintheDGM,if\\nsuccessfully trained,enablesthegeneration ofnewsamples\\nwithsimilarproperties totheoriginalones.Originally the\\nDGMwaspresented asacontestant tothetraditional\\nquantum-mechanical computation topredictproperties. This\\ndeeplearning technique isacost-effective computational\\nresourcetoapproximate complexhigh-dimensional probabil-\\nities.Thisclearsthewayfornewdevelopments in\\ncheminformatics regarding molecular science,suchasthe\\nprospectofgenerating desiredmolecules.14−16\\nThefollowing figure,Figure3,describes themethodology\\nstepthatinvolvesthegenerative model.Theselection ofthetypesofneuralnetworks usedinthemethodology’s\\nconstruction isbasedontheconclusions oftheworkof\\nMercado etal.(2021).11\\nThemolecule isinthecanonical SMILES forminthe\\ndatabase, soitisnecessary toconvertfromSMILES to\\nmolecules andfrommolecules tograph.Inthisway,thegraphs\\ncanbeusedasthegenerative input.Forthispurpose, the\\nRDKitfunctions wereused,Open-Source Cheminformatics\\nSoftwareaccessible inPython.Theconversion frommolecules\\ntographsconsistsoftransforming atomsintonodesandbonds\\nintoedges.Thesenodesandedgeshaveembeddings, inwhich\\nthechemical information associated withthemisstored.The\\nembeddings makeitpossibletounderstand therelationship\\nbetweenthecomponents ofthegraph.Hence,thegenerative\\nsystemreceivesasinputonemolecule atatimeintheformof\\ngraph.Then,thegeneration willproceedonebondatatime.\\nAdditionally, thegraphstructure hasadditional features,for\\ninstance, theadjacency matrixandedgeattributes. The\\nadjacency matrixrepresents howthenodesarerelatedto\\neachotherinasquaredmatrixwithdimensions definedbythe\\nnumberofnodesinthegraph.Theedgeattributes translatethe\\ndistancebetweentheedgesinthegraph.\\nThemolecule inthegraphform,alongside itsassociated\\nfeatures,ispreprocessed sothatthemodelcanlearnhowto\\nconstruct anddeconstruct itproperly. Forthisinstance, the\\ncanonical deconstruction pathisfollowed, similartotheone\\nfollowedintheworkofMercado etal.(2021).11Weininger et\\nal.(1988)17definedthecanonical methodthatgivesaunique\\nchemicalstructure. Inthegraphform,eachnode(atoms)and\\nedges(bonds)arelabelednumerically according totheirtype.\\nThen,thestartingnodeisselected,andthesequential nodes’\\norderisdefinedaccording tothecanonical labelsgiven.The\\ncanonical deconstruction pathfollowsthementioned labeling\\nandordertolearnhowtoconstruct anddeconstruct the\\nmolecules, aimingtolearnhowtogeneratenewones.\\nInthetrainingstep,themolecular graph,theadjacency\\ntensor(E),andthenodefeaturematrix(X)aregivenasthe\\ninputtothegated-graph neuralnetwork(GGNN).18,19\\nTheGGNNprovidesastheoutputthegraphembedding (g)\\nandthefinaltransformed nodefeaturematrix(HL).These\\noutputsaretherequiredinputtotheglobalreadoutblock,\\nusingamulti-layer perceptron (MLP)architecture asaunique\\nfeedforward artificialneuralnetwork.Theglobalreadoutblock\\nFigure2.Co-occurrence heatmapforthe20mostcommon flavor’s\\ndescriptors inthedatabase.\\nTable1.Chemical PropertyInputa\\ntypesofatoms C,N,O,F,P,S,Cl,Br,I\\nformalcharge 0\\nmaximum numberofatoms 69\\naItshouldbepointedoutthat,inordertoavoidtheoverfitting inthe\\nmodel,thedatabaseacquiredwassplitintotrain,test,andvalidation\\nsets.60%ofthedatabasewasallocatedtotrain,following 20%fortest\\nand20%forvalidation.\\nFigure3.DGMmethodology scheme.ACSOmega http://pubs.acs.org/journal/acsodf Article\\nhttps://doi.org/10.1021/acsomega.2c07176\\nACSOmega2023,8,10875−1088710877isapplied topredicteachgraph’sactionprobability\\ndistribution (APD)toguidethemodelintheconstruction\\nofthenewgraph.\\nThefunctioning ofthedataflowintheMLPisinthe\\nforwarddirection, fromtheinputtotheoutput.Inthiscase,\\ntwohiddenlayersareusedinthestructure, andtheprediction\\noftheAPDisperformed bytheoutputlayer.20,21\\nThepropertyofinteresttobepredicted bytheMLP,the\\nAPD,consistsofavectorcomprising theexpectedprobability\\nforallthepossibleactionsthatcanbesampledtogeneratethe\\nnewgraph.Italsoembraces invalidactions,sothemodelmust\\nlearntosetzeroprobability forthis.TheAPDiscalculated for\\nallgraphspresentinthetrainingsetinthepreprocessing phase.\\nTherearethreeprobable actions,theprobability ofaddinga\\nnewnode(fadd),theprobability ofconnecting thelastnodein\\nthegraphtoanotherexistingone(fconn),andtheprobability of\\nfinishingthegraph(ffin).Alltheseprobabilities mustsumto\\noneforeachgraphandarethetargetvectorstobelearnedby\\nthemodelinthetrainingphase.TheAPDistheoutputofthe\\nmodel.\\nThecombination oftheGGNN,themessagepassingphase,\\nwiththeglobalreadoutblockistranslated through the\\nequations presented below,thecalculusstructure behindthe\\nsystem.TheGGNNisdefinedbyeqs1−5andisrepresented\\ninthesystembythefunctional form,eqs6−10.11,22\\n= h xv v 0\\n(1)\\n= +\\nr c h W b\\nv\\nt\\nv\\nr\\nue\\nr\\nu\\nt\\ne\\nr ( 1)\\nv i\\n k j\\nj\\nj\\nj\\nj\\nj\\njy\\n { z\\nz\\nz\\nz\\nz\\nz\\nz\\n(2)\\n= +\\nz c h W b\\nv\\nt\\nv\\nz\\nue\\nz\\nu\\nt\\ne\\nz ( 1)\\nv i\\n k j\\nj\\nj\\nj\\nj\\nj\\njy\\n { z\\nz\\nz\\nz\\nz\\nz\\nz\\n(3)\\n=\\n+\\nh r h c W( ) b\\nv\\nt\\nv\\nuev\\nt\\nu\\nt\\ne\\n( 1)\\nv i\\n k j\\nj\\nj\\nj\\nj\\nj\\njy\\n { z\\nz\\nz\\nz\\nz\\nz\\nz\\n(4)\\n=+h z h z h (1 )vt\\n v t\\n v i\\n v t\\n v t\\n( 1)\\n(5)\\nwherehv0isthenodefeaturevectorfortheinitialnodevatthe\\nGGNNlayerandisequaltoitsnodefeaturevectorinthe\\ngraph;rvtisaGRU’sgateinthespecificMLPlayer,t,and\\nrelativetothenodev;σisthesigmoidfunction; cv=cvz=cvr=\\n||v1\\narenormalization constants;\\nv isthesetofneighbor\\nnodesforv;uisaspecificnodeinthegraph;\\nW e r isatrainable\\nweighttensorinrregarding theedgelabel,\\ne;bisalearnable\\nparameter;zisalsoaGRU’sgate; ρisanon-linear function;\\nand⊙isanelement-wise multiplication.\\n=h xi i 0\\n(6)\\n=\\n+\\nm he MLP()\\ni\\nl\\nvj\\nl\\nij\\n1 e\\nj vi()\\n(7)\\n=+ +h m h GRU( ,)il\\n i l\\n i l 1 1\\n(8)\\nl L\\n(9)\\nwheremil+1andhil+1aretheincoming messages andhidden\\nstatesofnodevi,respectively; eijistheedgefeaturevectorfortheedgeconnectingviandvj;lisaGNNlayerindex;andLis\\nthefinalGNNlayerindex.\\n=\\n[ ]\\ng h h h (MLP(\\n)) tanh((M\\nLP( , ))\\nvi\\nL\\ni\\nL\\ni\\na b 0\\n i\\n(10)\\nwheregisthefinalgraphembedding.\\nTheglobalreadoutblockistranslated byeqs11−16,\\npresented below.11Theactivation functionoftheblockisthe\\nSoftMaxfunction, whichconvertsavectorofnumbers intoa\\nvectorofprobabilities. Asageneralization ofthesigmoid\\nfunction,thisfunctionislargelyappliedinSciMLtonormalize\\nweighted sumvalueoutputs,sotheprobabilities sumtoone.23\\n= f H MLP ( )L\\nadd add,1\\n(11)\\n= f H MLP ( )L\\nconn conn,1\\n(12)\\n= [] f f g MLP ( ,)addadd,2\\n add\\n(13)\\n= [] f f g MLP ( ,)conn conn,2\\n conn\\n(14)\\n= f g MLP ()addfin,2\\n(15)\\n= [ ] f f f APDSOFTMAX( ,, ) add conn fi n\\n(16)\\nThetrainingphaseofthissystem,GGNNandglobal\\nreadoutblock,isexecuted inminibatches.Theactivation\\nfunctionofthemodelisthescaledexponential linearunit\\n(SELU), presented ineqs17and18,whichisappliedafter\\neverylinearlayerintheMLP.24Themodeltraininglossis\\ngivenbytheKullback−Leibler divergence betweenthetarget\\nAPDandpredicted APD.Kullback andLeibler(1951)25\\nintroduced theKullback−Leibler divergence asameasureof\\ndiscrepancy betweenprobabilities basedoninformation.26\\n= > fx x x () ,if 0\\n(17)\\n=< fx x x () (exp() 1), if0\\n(18)\\nwhere α=1.6733andλ=1.0507.\\nMoreover, allthemodelsusetheAdamoptimizer.\\nIntroduced byKingmaandBa(2017),27theAdamoptimizer\\nisastraightforward first-order gradient-based optimization\\nalgorithm. Thisoptimization functioncarriesoutthesparse\\ngradients andnon-stationary objectives. TheAdam-defined\\nparameters arepresented inSupporting Information, Table\\nS1.28\\nThetrainingmodelsareevaluated bysampling graphsin\\nestablished intervalsofepochs.Duringthisstep,theevaluation\\nmetricsarecalculated usingthegenerated graphsofthisphase,\\nTable2.Theuniformity-completeness Jensen-Shannon\\ndivergence (UC-JSD) isoneoftheevaluation metrics\\nTable2.Evaluation Metrics\\nmetrics description\\nPV percentage ofvalidmolecules intheset\\nPU percentage ofuniquemolecules intheset\\nPPT percentage ofmolecules thatwerefinishedthroughsampling of\\nfinishaction\\nPVPT percentage ofvalidmolecules inthesetofPPTmolecules\\nνav averagenumberofnodespergraphintheset\\nεav averagenumberofedgespernode\\nUC-JSD uniformity-completeness Jensen−Shannon divergenceACSOmega http://pubs.acs.org/journal/acsodf Article\\nhttps://doi.org/10.1021/acsomega.2c07176\\nACSOmega2023,8,10875−1088710878presented. ThismetricisrelatedtotheKullback−Leibler\\ndivergence anditsapplication toanaveragedistribution.29In\\nthiswork,theUC-JSDcalculates thedistribution ofnegative\\nlog-likelihood persampledactionineachset.\\nAmolecule isconsidered validifthetotalcountof\\nhydrogens tobeaddedisaccording tothetypeofatoms,\\nexplicitbonds,andformalchargesofthemolecule. Afterthe\\naddition ofthehydrogens, iftheyareincompatible, the\\nmolecule canstillbeeditedtosolvethisproblem. Theedition\\nisthroughtheRDKitfunction rdkit.Chem.SanitizeMol().30\\nThefunctionverifiesvalences, setaromaticity, hybridization,\\nandmolecule conjugation. Ifoneoftheanalysesfails,the\\nmolecule ismodified tosolvetheproblem. Ifthesanitizing\\nfails,anerrorisraised,andthemolecule isconsidered invalid.\\nIftheinvalidmolecule isoneoftheoutputconstituents, itis\\nrepresented as“[Xe]”.\\nThefinalphaseisthegeneration. Thegraphsandtheoutput\\nAPDaregivenastheinput.Duringthisstep,thesampled\\nactionsimplythegrowthofthenewgraphandchoices,suchas\\nthekindofatomtoadd.Moreover, thegraphconstruction can\\nbefinishedifthesampledactionistofinishorifaninvalid\\nactionoccurs.Theinvalidactionsaretheadditionofanew\\nnodeinanodethatdoesnotexistinthegraph.Connecting\\nnodesthatarealreadyconnected andaddinganodeinagraph\\nthatalreadyhasthemaximum numberofnodesarealsoinvalid\\nactions.Furthermore, thehydrogens areignoredduringthe\\ntrainingandgeneration phases.Theyareaddedaccording to\\ntheatoms’valencyinthegenerated graphs.\\nEachgraphgoesthroughthesystemonebyone;thegrowth\\niscarriedoutnodebynodeoredgebyedgeuntilitisfinished\\nandgivenasanoutput.Themodel’strainingstops,andthe\\nnumberofdefinedmolecules tobegenerated isgivenasan\\noutputaccording totheconvergence criteriaofthetraining\\nloss,definedasthreesignificant figures.\\nThestructure ofthemodel’sarchitecture isdefinedthrough\\nhyperparameters. Thesevariablesaresetasameanstoguide\\nanddirectthetrainingandperformance oftheSciMLmodel.31\\nAlso,theycanbedividedintotwocategories: algorithm and\\nmodelparameters. Thealgorithm parameters consistoftuning\\nparameters encircling thenumberofepochs,thelearningrate\\ndecays,momentum, andthelearningrate.Atthesametime,\\nthemodelparameters arecomposed ofvariablessuchasthe\\nnumberoflayers,layertype,numberofneurons,andactivation\\nfunction.32Thedefinition ofthesehyperparameters hasmajor\\nimplications forthemethodology’s accuracy. Inthiswork,\\ntheyweredefinedthroughasensitivity analysisandcanbe\\nfoundintheSupporting Information ofthisarticle,TableS2.\\n3.RESULTS\\nTheDGMwastrainedfor1000epochs.Thetrainingwas\\nperformed inaLinuxenvironment, inaserver,througha\\nVirtualBox installedinaWindows 10system.Theserverhasan\\nAMDRyzen95900X12-CoreProcessor 3.79GHz;32.0GB\\nofinstalled RAM;anoperative systemof64bits;andan\\nNVIDIA GeForce RTX3060GPU.TheOracleVM\\nVirtualBox hasanUbuntu64-bitoperative system.Within\\ntheseconditions, thetimerequiredtotraintheneuralnetwork\\nispresented inFigure4,inwhichthelogarithm ofthetimein\\nminutesisrepresented foreachtrainingepoch.\\nInFigure4itispossibletoverifythattherequiredtimeto\\ntraintheneuralnetworkisapproximately 11,000min,which\\ncorresponds to7daysand15hoftraining.Considering these\\ncomputational costsfortrainingamodel,thehyperparameters’\\noptimization wascarriedoutthroughsensitivity analysis.In\\nthisway,findingagoodmodelwithinareasonable\\ncomputational effortwaspossible.\\nTheepochthatpresented thebestresultswaschosenbased\\nontheminimization oftheUC-JSDvaluesandtheaverage\\nlikelihood oftraining,validation, andgeneration. Epoch780\\nwasdefinedasthegeneration epoch,asitpresented the\\nminimal UC-JSD between alltheepochs(UC-JSD of\\n−0.0216).\\nFurthermore, 200newlydesignedmolecules weregenerated\\nbasedontheepoch780,and197ofthosewereconsidered\\nvalidbythenetwork.Themolecules arepresented inFigures5\\nand6.\\nThedatatreatment andgraphspresented inthisworkwere\\nimplemented inGoogleColabnotebook inPython.The\\nresultsforthelearningratearepresented inFigure7.Itis\\npossibletovisualizethatthegeneration epochpresentsahigh\\nvalueforthelearningrate,butitisnotthehighestvalue.This\\nnoticeisimportant becausethehigherthevalueofthelearning\\nrate,themorebiasedistheneuralnetwork’s prediction.\\nHowever, theloweristhevalue,themoreoverfitted isthe\\nneuralnetwork.\\nInordertoanalyzetheconvergence withrespecttothe\\nnumberofepochs,agraphtocomparetheaveragetrainloss\\nandaveragevalidlossforeachepochispresented inFigure8,\\nFigure4.Logarithm oftimeinminutesforeachtrainingepoch.ACSOmega http://pubs.acs.org/journal/acsodf Article\\nhttps://doi.org/10.1021/acsomega.2c07176\\nACSOmega2023,8,10875−1088710879inwhichthedatarepresented bythecolorbluedenotethe\\naveragevalidloss,thedatarepresented bythecolorcyan\\ndenotetheaveragetrainloss,andtheredlineistheresultfor\\nthegenerative epochchosen.Thetraininglossisanalyzedto\\nevaluatethedatafittingofthemodel.Itiscalculated bythe\\nsumoftheerrorsineachgraphinthetrainingset.Meanwhile,\\nthevalidation lossisanalyzed toevaluate themodel’s\\nperformance onthevalidation set.Itiscalculated inthe\\nsamewayasthetrainingloss,i.e.,itsumstheerrorsforeach\\ngraphinthevalidation set.\\nInFigure8itispossibletoverifythatfromepoch0to500,\\ntheaveragetrainlossdecreases quickly,thenincreases, and\\nstartsslowingdecreasing. Incontrast, theaveragevalidloss\\nincreases slowly,implyingariskofoverfitting. However, from\\nepoch500to800,theaveragetrainlossandvalidlosspresentagoodfitting.Fromepoch900to1000,itispossibletovisualize\\nanincreaseoftheaveragevalidlossrelativetotheaveragetrain\\nloss,whiletheaveragetrainlossstartsdecreasing. Thereis\\nanothersymptom ofoverfitting. Inthiscase,thebestsolution\\nistostopthetrainingaprevious epochwhereabetter\\nperformance wasobserved. Basedonthisanalysis, the\\ngeneration epochshouldbechosenbetweentheepochs500\\nand800.\\nBasedontheconvergence andonthepercentage ofvalid\\nmolecules intheset(PV),percentage ofuniquemolecules in\\ntheset(PU),percentage ofmolecules thatwerefinished\\nthroughthesamplingoffinishaction(PPT),andpercentage of\\nvalidmolecules inthesetofPPTmolecule (PVPT)metrics,\\nthegeneration epochchosenwasthe780.Theconvergence\\nFigure5.Newdesigned molecules fromDGMpart1.ACSOmega http://pubs.acs.org/journal/acsodf Article\\nhttps://doi.org/10.1021/acsomega.2c07176\\nACSOmega2023,8,10875−1088710880andevaluation resultsforthegeneration epocharepresented\\ninTable3.\\nInordertohaveabettervisualization oftheobtainedresults\\nfromtheDGMduringtrainingandvalidation, Figure9\\npresentstheaveragelikelihood permolecule intrainingand\\nvalidation. Inthiscase,thedatarepresented bythecolorblue\\ndenotetheaveragelikelihood permolecule invalidation, the\\ndatarepresented bythecolorgreendenotetheaverage\\nlikelihood permolecule intraining,andtheredlinerepresents\\ntheresultforthegenerative epochchosen.Theaverage\\nlikelihood metricisanalyzedtoverifythetrainandvalidation\\nperformance, toobtaininformation onhowlikelyitistoobtain\\nadatasetastheoriginalgaveasinput.Havingthatinmind,thehigherthevalueoflikelihood is,thebetterthefitofthemodel\\nis.InFigure9,itispossibletovisualize thatthechosen\\ngenerative epochdoesnotpresentthehighestaverage\\nlikelihood forthetrainingandthevalidation. However, itis\\noneofthehighestpointsoftheaveragelikelihood forboth\\ntrainingandvalidation. Itwasconsidered goodenough\\nregarding alltheselectedmetricsforthegenerative epoch,as\\nmentioned whendiscussing Figure8andTable3.\\nTheanalysesofthegeneration resultsregarding thechemical\\nstructureoftheobtainedmolecules canbecarriedoutthrough\\nthevisualization ofFigure10.Inthisfigure,thedata\\nrepresented bythecolorbluedenotetheaveragenumberof\\nnodesintheresulting graphs,representing atomsinthe\\nFigure6.Newdesigned molecules fromDGMpart2.ACSOmega http://pubs.acs.org/journal/acsodf Article\\nhttps://doi.org/10.1021/acsomega.2c07176\\nACSOmega2023,8,10875−1088710881molecular structure; thedatarepresented bythegreencolor\\ndenotetheaveragenumberofedgesintheresulting graphs,\\nrepresenting thebondsperatominthemolecular structure;\\nandtheverticalredlinehighlights theresulting average\\nnumberofnodesandedgespernodeintheresultinggraphsof\\nthegenerative epochchosen.Itispossibletovisualizethatthe\\naveragenumberofnodesrangesbetweenthreeandfournodes\\npergraph,whiletheaveragenumberofedgespernodeis\\naroundtwo.Forthegenerative epoch,theaveragenumberof\\nnodesandedgespernodeisbetweenthecommonrangeforall\\ntheepochsinthetraining,notpresenting anoutlier.However,\\nitisimportant tonoticethattheaverageiscalculated countinginvalidmolecules. So,thisanalysisisonlyperformed toverify\\nthepresenceofoutliersandiftheepochs’resultsarecongruent\\nwithinthemselves.\\nToevaluate theobtained results,the200molecules\\ngenerated werestudiedandanalyzed. Thegeneralresults\\nregarding thenumberofmolecules thatarevalid,invalid,\\nexistent,non-existent, alreadyusedintheflavorindustry,and\\nnotusedintheflavorindustryarepresented inTable4.\\nAsalreadymentioned, thegeneration basedonthetraining\\nepoch780obtained 197validmolecules. Considering those\\n197molecules, 2ofthem,eventhoughtheyareconsidered\\nvalidandhavecanonical SMILES, arenotrecognized bythe\\nFigure7.Generative model’slearningrate.\\nFigure8.Averagetrainandvalidlossforthe1000trainingepochs.Table3.Convergence andEvaluation Results\\nepoch 780\\naveragelikelihood permolecule invalidation 26.04\\naveragelikelihood permolecule intraining 1.85\\naveragelikelihood permolecule ingeneration 0.32\\nUC-JSD −0.02\\nlearningrate 9.90 ×10−5\\naveragetrainloss 0.41\\naveragevalidloss 4.05\\nPV(0-1) 1.00\\nPVPT(0-1) 1.00\\nPPT(0-1) 1.00\\nruntime/s 129228.44\\nνav 8.35\\nεav 1.96\\nPU(0-1) 0.95ACSOmega http://pubs.acs.org/journal/acsodf Article\\nhttps://doi.org/10.1021/acsomega.2c07176\\nACSOmega2023,8,10875−1088710882ChemSpider33andPubChem34onlinedatabases. Thenon-\\nexistentmolecules SMILESareshownineqs19and20.\\n= = CCCC( O) OCC(C)CCC C C(C)C\\n(19)\\n= = CC1 CCCN C(C)CC1\\n(20)\\nItisimportant tonoticethatthegenerative modelproposed\\nthroughout thisworkhasbeenimplemented inordertoobtain\\nanddesignmolecules tobeappliedintheflavorindustry.However, itdoesnotimplythatthegenerated molecules do\\nnotalreadyexistorthattheyarenotalreadyemployed inother\\nindustrial sectors.Considering the200molecules obtained\\nthroughSciML,only1%donothaveadefinedreactionpathor\\nexistintheonlinedatabases. Thisresultshowsthatthe\\ngenerative modelcanbeconfidently appliedtoobtain\\nmolecules tocompose flavor-based products, notnecessarily\\nrequiring tobenewlysynthesized.\\nFigure9.Averagelikelihood permolecule intrainingandinvalidation forthe1000trainingepochs.\\nFigure10.Averagenumberofedgesandnodesforthe1000trainingepochs.ACSOmega http://pubs.acs.org/journal/acsodf Article\\nhttps://doi.org/10.1021/acsomega.2c07176\\nACSOmega2023,8,10875−1088710883Whenstudying themolecules obtained through the\\ngeneration modelregarding theapplication intheflavor\\nindustry, 77.5%ofthemarealreadyemployed asflavoring\\nagentsorflavorenhancers. Theremaining 20%ofvalid\\nmolecules thatarenotyetemployed inthefocusedsectormust\\nbestudied,andtheirchemicalstructuremustbeanalyzedtobe\\nconsidered forthe“newrole”oftheflavoringagent.Actually,\\n15%ofthemcanbeconsidered asanewapproach toa\\nflavoring agent,whiletheother5%aretoxicmolecules.\\nConcerning thetoxicmolecules, thefivemolecules obtained\\nareclassified ascarcinogenic. Meanwhile, thepercentage of\\nmolecules thatarenotyetemployed intheflavorindustryis\\ncomposed ofmolecules usedinthepharmaceutical industry,\\npackage production, lubricants, solvents, otherflavors’\\nprecursor, orperfumes. Asanexample, threeoftheobtained\\nmolecules thatareinthis15%aregoingtobeanalyzedinthe\\nfollowing paragraphs.\\nThefirstmolecule tobeanalyzedisthe2-hydroxy-6-propan-\\n2-ylcyclohepta-2,4,6-trien-1-one (CASnumber:499-44-5), also\\nknownasHinokitiol, shownineq21andFigure11.Itisa\\nnaturalmolecule thatisfoundinatraditional Japanese tree,\\nTaiwanese ninokitree,usedinthepharmaceutical industryto\\nregulateirontransport inanimals.Itisalsoapplicable to\\npreventinfections, asanantistatic, asafragrance component,\\nandinhairconditioning products. Thismolecule isalready\\nusedasafoodadditiveinJapan.However, intheliterature, itis\\nnotpossibletofindinformation aboutitbeingusedinthe\\nflavorindustryworldwide. Itisaninteresting molecule tobe\\nanalyzed andconsidered tobeappliedintheflavorindustry\\nconsidering thepharmacological properties, thevastapplica-\\ntionindifferentindustries sectors,thefactthatitispossibleto\\nbenaturallyextracted fromCupressaceae family’strees,andthat\\nitwasalreadyapproved asnotcarcinogenic inCanada.35,36\\n= CC(C)c1c ccc(O)c( O )c1\\n(21)Thefollowing obtained molecule tobeanalyzedisthe1,3-\\nbenzodioxole-5-carboxylic acid(CASnumber:94-53-1), also\\nknownasmethyprylon, shownineq22andFigure12.This\\nmolecule isusedinthecosmeticindustryforskinconditioning\\nandprotection. Itcanbenaturally extracted fromthe\\nNectandraamazonum andPongamiapinnatavar.pinnata,\\nplantsfromtropicalbiomewhichareusedinmedicine. This\\nmolecule hasantifungal andskinhealingproperties. Itis\\npossibletovisualize inFigure12thatthismolecule has\\nfunctional groupsthatarecommoninflavoredmolecules, such\\nasetherandcarboxylic acidgroups.Considering theindustrial\\napplications andproperties, 1,3-benzodioxole-5-carboxylic acid\\nisaninteresting molecule tobefurtherstudiedandhasits\\ntoxicology assessedinordertoconsiderittobeappliedinthe\\nflavorindustry.37\\n=O C(O)c1c cc2c(c1)O CO2\\n(22)\\nFinally,thethirdmolecule tobeanalyzed isthe7,7-\\ndimethyl-3-methylene-bicyclo[4.1.0]heptane (CASnumber:\\n554-60-9), alsoknownasβ-carene, shownineq23andFigure\\n13.Thismolecule canbeextracted fromtheessentialoilof\\nAlgeriancypress.Itisconsidered avolatilecompound foundin\\nherbsandhasbeenthefocusofstudiesregarding theuseof\\nnaturalproducts forfoodpreservation andintheanalysisof\\nunder-utilized herbs.Thecarenemolecule isusedinthe\\nperfumeindustry. However, theβ-carenecouldnotbefound\\nintheliterature asaperfumecomponent orflavoring agent.\\nConsidering thestudiesperformed andthenaturalaspectof\\nthemolecule, itisimportant toconsiderafurtheranalysisof\\nproperties andtoxicology toevaluatetheapplication ofthis\\nmolecule intheflavorindustry.38Table4.Generated Molecule Assessment Results\\ncategoriesnumberof\\nmoleculespercentage ofmolecules\\n(%)\\nvalidmolecules 197 98.5\\ninvalidmolecules 3 1.5\\nexistent 195 97.5\\nnon-existent 2 1\\nusedintheflavorindustry 155 77.5\\nnotyetusedintheflavor\\nindustry40 20\\ntoxic 5 2.5\\nFigure11.Imageobtained astheoutputofthegenerative modelof\\nthe2-hydroxy-6-propan-2-ylcyclohepta-2,4,6-trien-1-one.\\nFigure12.Imageobtained astheoutputofthegenerative modelof\\n1,3-benzodioxole-5-carboxylic acid.\\nFigure13.Imageobtained astheoutputofthegenerative modelof\\n7,7-dimethyl-3-methylene-bicyclo[4.1.0]heptane.ACSOmega http://pubs.acs.org/journal/acsodf Article\\nhttps://doi.org/10.1021/acsomega.2c07176\\nACSOmega2023,8,10875−1088710884=C C1CCC2C (C1)C2(C) C(23)\\nAnotherrelevantaspectoftheobtained molecules thatare\\nvalidandnotyetappliedintheflavorindustryistheobtained\\nisomericstructures ofmolecules alreadyappliedintheflavor\\nindustry. Anexample isthe2-methylbenzaldehyde (CAS\\nnumber:529-20-4), alsoknownaso-tolualdehyde, shownineq\\n24andFigure14.Thismolecule isusedasafragrance\\ncompound. However, asaflavoring agent,itisthep-\\ntolualdehyde thatisused.Thep-tolualdehyde hasafloral,\\nsweet,andspicyflavor.Considering theflavorindustry\\napplication ofthemolecule’s paraisomer,itisinteresting to\\nanalyzethepossibility ofusingtheorthoisomeraswell,having\\ninmindthatthereactioninthehumanbodycanbedifferent\\nfordifferentisomers.\\n= Cc1ccccc 1C O\\n(24)\\nItispossibletoconclude thateventhoughthegenerative\\nmodeldesignsthemolecules throughrandomsampling of\\nactions,itcanfindmolecules thatarealreadyusedintheflavor\\nindustryorinotherindustrial. Meanwhile, itwaspossibleto\\nverifythatthenewapproach todevelopflavorsandflavor-\\nbasedproducts doesnotnecessarily implydiscovering and\\ntryingnewsynthesispathstoobtainnewmolecules. Actually,it\\nispossibletodiscover molecules alreadyavailable inthe\\nmarket,someofthemlargelyappliedinotherindustrysectors,\\nthatcanbestudiedandanalyzed tofulfillflavorengineering\\nneeds.Alternatively, itisalsopossibletoobtainthroughthe\\ngenerative modelsuggestions ofmolecules thatarealready\\nappliedintheflavorengineering fieldasflavoring agentsor\\nflavorenhancers andcanbeconsidered inflavor-based product\\ndevelopment.\\n4.CONCLUSIONS\\nThisworklaunches anewstandpoint inflavorengineering\\nbasedonSciML.Themaingoalwastogeneratenewflavored\\nmolecules thatcouldbesynthesized andappliedinthe\\nindustrytodevelopflavor-based products, henceaddressing an\\nincreasing challenge foundintheflavorindustry.\\nThemethodology consisted ofagenerative framework\\ndevelopment togenerate newflavormolecules basedona\\ndatabase extracted fromFlavorDB’s website.Theproposed\\nmethodwasabletodesignseveralmolecules tobeappliedin\\ntheflavorindustry. Theresultsdemonstrate theoverall\\nconceptproposed inthisworkanditspotential tohelpin\\nflavordesign.\\nThisworkisfocusedonamethodology development to\\ngenerateflavoredmolecules. Thesegenerated molecules canbe\\nevaluated concerning theirexistence ornotinthemarketandwhethertheycanbeeasilysynthesized ornot.Iftheyalready\\nexistinthemarketbutarenotusedinflavor-based products\\nyet,thesearchforasynthesis routeisnotrequired, andthe\\nbureaucracy ofcompound regulation couldbeeasier.To\\naddressthisissueanddemonstrate thisconcept,afewofthe\\ngenerated molecules wereanalyzedandtheiravailability inthe\\nmarketisshown.\\n■ASSOCIATED CONTENT\\n+sıSupporting Information\\nTheSupporting Information isavailable freeofchargeat\\nhttps://pubs.acs.org/doi/10.1021/acsomega.2c07176.\\nTableofPyTorch defaultparameters’ valuesforthe\\nAdamoptimizer andtableofDGMhyperparameters\\n(PDF)\\n■AUTHORINFORMATION\\nCorresponding Author\\nIdelfonso B.R.Nogueira −ChemicalEngineering\\nDepartment,NorwegianUniversityofScienceand\\nTechnology,7491Trondheim,Norway;\\n orcid.org/0000-\\n0002-0963-6449; Email:idelfonso.b.d.r.nogueira@ntnu.no\\nAuthors\\nLuanaP.Queiroz −LSRE-LCM-Laboratory ofSeparation\\nandReactionEngineering-Laboratory ofCatalysisand\\nMaterials,FacultyofEngineeringandALiCE-Associate\\nLaboratoryinChemicalEngineering,FacultyofEngineering,\\nUniversityofPorto,4200-465Porto,Portugal;\\n orcid.org/\\n0000-0003-3092-8136\\nCarineM.Rebello −Departamento deEngenhariaQuímica,\\nEscolaPolitécnica(PolytechnicInstitute),Universidade\\nFederaldaBahia,40210-630Salvador,Brazil\\nErbetA.Costa −Departamento deEngenhariaQuímica,\\nEscolaPolitécnica(PolytechnicInstitute),Universidade\\nFederaldaBahia,40210-630Salvador,Brazil\\nViníciusV.Santana −LSRE-LCM-Laboratory ofSeparation\\nandReactionEngineering-Laboratory ofCatalysisand\\nMaterials,FacultyofEngineeringandALiCE-Associate\\nLaboratoryinChemicalEngineering,FacultyofEngineering,\\nUniversityofPorto,4200-465Porto,Portugal;\\n orcid.org/\\n0000-0002-2940-1268\\nBrunoC.L.Rodrigues −LSRE-LCM-Laboratory of\\nSeparationandReactionEngineering-Laboratory ofCatalysis\\nandMaterials,FacultyofEngineeringandALiCE-Associate\\nLaboratoryinChemicalEngineering,FacultyofEngineering,\\nUniversityofPorto,4200-465Porto,Portugal\\nAlírioE.Rodrigues −LSRE-LCM-Laboratory ofSeparation\\nandReactionEngineering-Laboratory ofCatalysisand\\nMaterials,FacultyofEngineeringandALiCE-Associate\\nLaboratoryinChemicalEngineering,FacultyofEngineering,\\nUniversityofPorto,4200-465Porto,Portugal;\\n orcid.org/\\n0000-0002-0715-4761\\nAnaM.Ribeiro −LSRE-LCM-Laboratory ofSeparationand\\nReactionEngineering-Laboratory ofCatalysisandMaterials,\\nFacultyofEngineeringandALiCE-Associate Laboratoryin\\nChemicalEngineering,FacultyofEngineering,Universityof\\nPorto,4200-465Porto,Portugal;\\n orcid.org/0000-0003-\\n4269-1420\\nComplete contactinformation isavailableat:\\nhttps://pubs.acs.org/10.1021/acsomega.2c07176\\nFigure14.Imageobtainedastheoutputofthegenerative modelof2-\\nmethylbenzaldehyde.ACSOmega http://pubs.acs.org/journal/acsodf Article\\nhttps://doi.org/10.1021/acsomega.2c07176\\nACSOmega2023,8,10875−1088710885AuthorContributions\\nConceptualization, I.B.R.N., C.M.R., V.V.S.,andL.P.Q.;\\nmethodology, I.B.R.N., C.M.R.,B.C.L.R., andL.P.Q.;writ-\\ning�original draftpreparation, I.B.R.N.andL.P.Q.;writing�\\nreviewandediting,I.B.R.N., L.P.Q.,andA.M.R.; and\\nsupervision, I.B.R.N., C.M.R.,E.A.C.,A.E.R.,andA.M.R.All\\nauthorshavereadandagreedtothepublished versionofthe\\nmanuscript.\\nFunding\\nThisworkwasfinancially supported byLA/P/0045/2020\\n(ALiCE), UIDB/50020/2020 andUIDP/50020/2020 (LSRE-\\nLCM),fundedbynational fundsthrough FCT/MCTES\\n(PIDDAC) andFCT�Fundação paraaCiênciaeTecnologia\\nundertheCEECInstitucional program.\\nNotes\\nTheauthorsdeclarenocompeting financialinterest.\\n■REFERENCES\\n(1)Berenstein, N.FlavorAdded:TheSciencesofFlavorandthe\\nIndustrialization ofTasteinAmerica. ProQuest Dissertations and\\nTheses,2018,p556.\\n(2)Ulloa,A.M.Theaesthetic lifeofartificialflavors.SensesSoc.\\n2018,13,60−74.\\n(3)Rodrigues, A.E.;Nogueira, I.;Faria,R.P.V.Perfumeandflavor\\nengineering: Achemical engineering perspective.Molecules2021,26,\\n3095.\\n(4)Monteiro, A.;Costa,P.;Loureiro, J.M.;Rodrigues, A.E.Flavor\\nEngineering-A Methodology toPredictSensoryQualities ofFlavored\\nProducts.Ind.Eng.Chem.Res.2018,57,8115−8123.\\n(5)Vanderhaegen, B.;Neven,H.;Coghe,S.;Verstrepen, K.J.;\\nDerdelinckx, G.;Verachtert, H.Bioflavoring andbeerrefermentation.\\nAppl.Microbiol.Biotechnol. 2003,62,140−150.\\n(6)Wei,J.;Chu,X.;Sun,X.Y.;Xu,K.;Deng,H.X.;Chen,J.;Wei,\\nZ.;Lei,M.Machine learninginmaterials science.InfoMat2019,1,\\n338−358.\\n(7)Samaniego, E.;Anitescu, C.;Goswami, S.;Nguyen-Thanh, V.\\nM.;Guo,H.;Hamdia, K.;Zhuang, X.;Rabczuk, T.Anenergy\\napproach tothesolution ofpartialdifferential equations in\\ncomputational mechanics viamachine learning: Concepts, imple-\\nmentation andapplications.Comput.MethodsAppl.Mech.Eng.2020,\\n362,112790.\\n(8)Butler,K.T.;Davies,D.W.;Cartwright, H.;Isayev,O.;Walsh,\\nA.Machinelearningformolecular andmaterialsscience.Nature2018,\\n559,547−555.\\n(9)Park,D.;Kim,K.;Kim,S.;Spranger, M.;Kang,J.FlavorGraph: a\\nlarge-scale food-chemical graphforgenerating foodrepresentations\\nandrecommending foodpairings.Sci.Rep.2021,11,931.\\n(10)Xu,D.MachineLearningforFlavorDevelopment, Bachelorof\\nScience,HarvardUniversity, 2019.\\n(11)Mercado, R.;Rastemo, T.;Lindelof, E.;Klambauer, G.;\\nEngkvist, O.;Chen,H.;Bjerrum,E.J.Graphnetworks formolecular\\ndesign.Mach.Learn.:Sci.Technol.2021,2,025023.\\n(12)Zhang,J.;Mercado, R.;Engkvist, O.;Chen,H.Comparative\\nStudyofDeepGenerative ModelsonChemical SpaceCoverage.J.\\nChem.Inf.Model.2021,61,2572−2581.\\n(13)Ganesh, B.FlavorDB. https://cosylab.iiitd.edu.in/flavordb/\\n(accessed April5,2022).\\n(14)Jørgensen, P.B.;Schmidt,M.N.;Winther,O.DeepGenerative\\nModelsforMolecular Science.Mol.Inf.2018,37,1700133.\\n(15)Ruthotto, L.;Haber,E.Anintroduction todeepgenerative\\nmodeling.GAMM-Mitteilungen 2021,44,No.e202100008.\\n(16)Xue,D.;Gong,Y.;Yang,Z.;Chuai,G.;Qu,S.;Shen,A.;Jing\\nYu,Q.L.Advances andchallenges indeepgenerative modelsforde\\nnovomolecule generation.WileyInterdiscip.Rev.Comput.Mol.Sci.\\n2019,9,No.e1395.(17)Weininger, D.;Weininger, A.;Weininger, J.L.SMILES. 2.\\nAlgorithm forGeneration ofUniqueSMILESNotation.J.Chem.Inf.\\nComput.Sci.1989,29,97−101.\\n(18)Li,Y.;Zemel,R.;Brockschmidt, M.;Tarlow,D.Gatedgraph\\nsequence neuralnetworks.4thInternational ConferenceonLearning\\nRepresentations, ICLR2016-Conference TrackProceedings, 2016;pp1−\\n20.\\n(19)Zhou,J.;Cui,G.;Hu,S.;Zhang,Z.;Yang,Y.;Liu,Z.;Wang,L.;\\nLi,L.;Sun,M.Graphneuralnetworks: Areviewofmethods and\\napplications.AIOpen2020,1,57−81.\\n(20)Kaufmann, M.UsingGoalsinModel-BasedReasoning; Menzies,\\nT.,Kocagu ̈neli,E.,Leandro, M.;Peters,F.,Ed.;SharingDataand\\nModelsinSoftwareEngineering, 2015;Chapter24,pp321−353.\\n(21)Abirami, S.;Chitra,P.Energy-efficient edgebasedreal-time\\nhealthcare supportsystem.Adv.Comput.2020,117,339−368.\\n(22)Beck,D.;Haffari,G.;Cohn,T.Graph-to-sequence learning\\nusinggatedgraphneuralnetworks.ACL2018-56thAnnualMeetingof\\ntheAssociationforComputational Linguistics,Proceedingsofthe\\nConference(LongPapers),2018;Vol.1,pp273−283.\\n(23)Nwankpa, C.;Ijomah, W.;Gachagan, A.;Marshall, S.\\nActivation Functions: Comparison oftrendsinPracticeandResearch\\nforDeepLearning,2021.arXiv:1811.03378.\\n(24)Klambauer, G.;Unterthiner, T.;Mayr,A.;Hochreiter, S.Self-\\nnormalizing neuralnetworks.Adv.NeuralInf.Process.Syst.2017,30,\\n972−981.\\n(25)Kullback, S.;Leibler,R.A.OnInformation andSufficiency.\\nAnn.Math.Stat.1951,22,79−86.\\n(26)Joyce,J.M.Kullback-Leibler Divergence. International\\nEncyclopediaofStatisticalScience;SpringerBerlinHeidelberg, 2011;\\npp720−722.\\n(27)Kingma, D.P.;Ba,J.L.Adam:Amethodforstochastic\\noptimization. 3rdInternationalConferenceonLearningRepresentations,\\nICLR2015-Conference TrackProceedings, 2015;pp1−15.\\n(28)torch.optim.Adam.\\n(29)Nielsen, F.Onageneralization ofthejensen-shannon\\ndivergence andthejensen-shannon centroid.Entropy2020,22,221.\\n(30)Rdkit.rdkit.Chem.rdmolops.SanitizeMol, https://www.rdkit.\\norg/docs/source/rdkit.Chem.rdmolops.html?highlight=sanitize#rdkit.\\nChem.rdmolops.SanitizeMol (accessed April12,2022).\\n(31)Li,L.;Jamieson, K.;DeSalvo,G.;Rostamizadeh, A.;Talwalkar,\\nA.Hyperband: Anovelbandit-based approach tohyperparameter\\noptimization. J.Mach.Learn.Res.2017,18,6765−6816.\\n(32)Nikbakht, S.;Anitescu, C.;Rabczuk, T.Optimizing theneural\\nnetworkhyperparameters utilizinggeneticalgorithm.J.ZhejiangUniv.,\\nSci.,A2021,22,407−426.\\n(33)Hettne,K.M.;Williams, A.J.;VanMulligen, E.M.;Kleinjans,\\nJ.;Tkachenko, V.;Kors,J.A.Automatic vs.manualcurationofa\\nmulti-source chemical dictionary: Theimpactontextmining.J.\\nCheminf.2010,2,3.\\n(34)Kim,S.;Chen,J.;Cheng,T.;Gindulyte, A.;He,J.;He,S.;Li,\\nQ.;Shoemaker, B.A.;Thiessen, P.A.;Yu,B.;etal.PubChem in2021:\\nNewdatacontentandimproved webinterfaces.NucleicAcidsRes.\\n2021,49,D1388−D1395.\\n(35)Liu,S.;Yamauchi, H.Hinokitiol, ametalchelatorderivedfrom\\nnaturalplants,suppresses cellgrowthanddisruptsandrogen receptor\\nsignaling inprostatecarcinoma celllines.Biochem.Biophys.Res.\\nCommun.2006,351,26−32.\\n(36)Hachlafi,N.E.;Aanniz,F.;Menyiy,A.;Baaboua, S.;Omari,N.;\\nBalahbib, A.;Shariati, M.A.;Zengin,G.;Fikri-Benbrahim, K.;\\nBouyahya, G.;etal.InVitroandinVivoBiological Investigations of\\nCamphene andItsMechanism Insights:AReview.Processes2021,9,\\n1−28.\\n(37)Schalk,M.;Cabello-Hurtado, F.;Pierrel,M.A.;Atanassova, R.;\\nSaindrenan, P.;Werck-Reichhart, D.Piperonylic acid,aselective,\\nmechanism-based inactivator ofthetrans-cinnamate 4-hydroxylase: A\\nnewtooltocontrolthefluxofmetabolites inthephenylpropanoid\\npathway.PlantPhysiol.1998,118,209−218.\\n(38)McAlister, A.B.;Vesto,J.I.;Huang,A.;Wright,K.A.;Emily,E.\\nJ.;Bailey,G.M.;Kretekos, N.P.;Baldwin,P.R.;Carrasquillo, A.J.;ACSOmega http://pubs.acs.org/journal/acsodf Article\\nhttps://doi.org/10.1021/acsomega.2c07176\\nACSOmega2023,8,10875−1088710886Lalonde,R.L.Reactivity ofacarene-derived hydroxynitrate inmixed\\norganic/aqueous matrices: Applying synthetic chemistry toproduct\\nidentification andmechanistic implications. Atmosphere 2021,12,\\n1617.ACSOmega http://pubs.acs.org/journal/acsodf Article\\nhttps://doi.org/10.1021/acsomega.2c07176\\nACSOmega2023,8,10875−1088710887'"
            ],
            "application/vnd.google.colaboratory.intrinsic+json": {
              "type": "string"
            }
          },
          "metadata": {},
          "execution_count": 17
        }
      ]
    },
    {
      "cell_type": "code",
      "source": [
        "cassio.init(token=ASTRA_DB_APPLICATION_TOKEN, database_id=ASTRA_DB_ID)"
      ],
      "metadata": {
        "id": "bl6zwq6MqoeK",
        "colab": {
          "base_uri": "https://localhost:8080/"
        },
        "outputId": "3b3e827c-52e2-467d-adf0-02c491b8a87a"
      },
      "execution_count": 28,
      "outputs": [
        {
          "output_type": "stream",
          "name": "stderr",
          "text": [
            "WARNING:cassandra.cluster:Downgrading core protocol version from 66 to 65 for bbd69670-7e35-4b31-bdb8-55896259e8b2-us-east-2.db.astra.datastax.com:29042:190dafab-6970-3a67-a21c-1226360de7dc. To avoid this, it is best practice to explicitly set Cluster(protocol_version) to the version supported by your cluster. http://datastax.github.io/python-driver/api/cassandra/cluster.html#cassandra.cluster.Cluster.protocol_version\n",
            "WARNING:cassandra.cluster:Downgrading core protocol version from 65 to 5 for bbd69670-7e35-4b31-bdb8-55896259e8b2-us-east-2.db.astra.datastax.com:29042:190dafab-6970-3a67-a21c-1226360de7dc. To avoid this, it is best practice to explicitly set Cluster(protocol_version) to the version supported by your cluster. http://datastax.github.io/python-driver/api/cassandra/cluster.html#cassandra.cluster.Cluster.protocol_version\n",
            "WARNING:cassandra.cluster:Downgrading core protocol version from 5 to 4 for bbd69670-7e35-4b31-bdb8-55896259e8b2-us-east-2.db.astra.datastax.com:29042:190dafab-6970-3a67-a21c-1226360de7dc. To avoid this, it is best practice to explicitly set Cluster(protocol_version) to the version supported by your cluster. http://datastax.github.io/python-driver/api/cassandra/cluster.html#cassandra.cluster.Cluster.protocol_version\n"
          ]
        }
      ]
    },
    {
      "cell_type": "code",
      "source": [
        "llm = OpenAI(openai_api_key=OPENAI_API_KEY)\n",
        "embedding = OpenAIEmbeddings(openai_api_key=OPENAI_API_KEY)"
      ],
      "metadata": {
        "id": "JwzsCs88qzRi"
      },
      "execution_count": 29,
      "outputs": []
    },
    {
      "cell_type": "code",
      "source": [
        "astra_vector_store = Cassandra(\n",
        "    embedding=embedding,\n",
        "    table_name=\"qa_mini_demo\",\n",
        "    session=None,\n",
        "    keyspace=None,\n",
        ")"
      ],
      "metadata": {
        "id": "htoyWzw9q1VW"
      },
      "execution_count": 30,
      "outputs": []
    },
    {
      "cell_type": "code",
      "source": [
        "from langchain.text_splitter import CharacterTextSplitter\n",
        "# We need to split the text using Character Text Split such that it sshould not increse token size\n",
        "text_splitter = CharacterTextSplitter(\n",
        "    separator = \"\\n\",\n",
        "    chunk_size = 800,\n",
        "    chunk_overlap  = 200,\n",
        "    length_function = len,\n",
        ")\n",
        "texts = text_splitter.split_text(raw_text)"
      ],
      "metadata": {
        "id": "AsLKFvrxq3v8"
      },
      "execution_count": 31,
      "outputs": []
    },
    {
      "cell_type": "code",
      "source": [
        "texts[:50]"
      ],
      "metadata": {
        "id": "twDvu5b9q6Vo",
        "colab": {
          "base_uri": "https://localhost:8080/"
        },
        "outputId": "2af5a6a1-3369-4920-d014-22e3d534eadb"
      },
      "execution_count": 32,
      "outputs": [
        {
          "output_type": "execute_result",
          "data": {
            "text/plain": [
              "['Generating FlavorMoleculesUsingScientificMachineLearning\\nLuanaP.Queiroz,CarineM.Rebello,ErbetA.Costa,ViníciusV.Santana,BrunoC.L.Rodrigues,\\nAlírioE.Rodrigues, AnaM.Ribeiro,andIdelfonso B.R.Nogueira*\\nCiteThis:ACSOmega2023,8,10875−10887\\n ReadOnline\\nACCESS\\n Metrics &More\\n Article Recommendations +sıSupporting Information\\nABSTRACT: Flavorisanessentialcomponent inthedevelop-\\nmentofnumerous products inthemarket.Theincreasing\\nconsumption ofprocessed andfastfoodandhealthypackaged\\nfoodhasupraised theinvestment innewflavoring agentsand\\nconsequently inmolecules withflavoring properties. Inthis\\ncontext, thisworkbringsupascientific machine learning\\n(SciML) approach toaddressthisproductengineering need.\\nSciMLincomputational chemistry hasopenedpathsinthe',\n",
              " 'context, thisworkbringsupascientific machine learning\\n(SciML) approach toaddressthisproductengineering need.\\nSciMLincomputational chemistry hasopenedpathsinthe\\ncompound’s propertyprediction withoutrequiring synthesis. This\\nworkproposesanovelframework ofdeepgenerative modelswithin\\nthiscontexttodesignnewflavormolecules. Through theanalysis\\nandstudyofthemolecules obtained fromthegenerative model\\ntraining,itwaspossibletoconclude thateventhoughthegenerative modeldesignsthemolecules throughrandomsampling of\\nactions,itcanfindmolecules thatarealreadyusedinthefoodindustry,notnecessarily asaflavoringagent,orinotherindustrial\\nsectors.Hence,thiscorroborates thepotential oftheproposed methodology fortheprospecting ofmolecules tobeappliedinthe\\nflavorindustry.\\n1.INTRODUCTION',\n",
              " 'sectors.Hence,thiscorroborates thepotential oftheproposed methodology fortheprospecting ofmolecules tobeappliedinthe\\nflavorindustry.\\n1.INTRODUCTION\\nTheunderstanding anddevelopment offlavorresultfromtwo\\ndisparate butintertwined subjects, chemistry andsensory\\nscience,appliedbytheflavorists todevelopnewproducts.1\\nThechemical development offlavordepends onthe\\nunderstanding ofhowthechemical compounds conveyflavor\\ntotheproduct.Thisiscarriedoutbyaimingtoreplicatetheir\\neffectonthebiological response. So,theunderline hypothesis\\nbehindthisisthatthereisacorrelation betweenthechemical\\nproperties ofagivencompound andtheprovoked flavor\\nsensation. However, thecreationandreplication offlavor(the\\nengineering behindit)arecomplex, asitmustevokethesmell\\nandtastesimultaneously, amultisensory experience.2Inthis',\n",
              " 'sensation. However, thecreationandreplication offlavor(the\\nengineering behindit)arecomplex, asitmustevokethesmell\\nandtastesimultaneously, amultisensory experience.2Inthis\\nscenario, flavorengineering hasemergedasafieldofproduct\\nengineering thataimstofulfilltheneedsofthemarketand\\nconsumers throughthedevelopment ofnewflavorsandflavor-\\nbasedproducts.3Thisisanewfieldthatneedsmoreprofound\\ndevelopment tosupplynewtoolstothisindustry. Flavor\\nengineering canhelpthissectordevelopnewproductstodeal\\nwiththemodernsociety’shealthystylewhileaddressing several\\notherconcerns foundintheindustrynowadays.\\nExperimental studiesinflavorengineering wereperformed\\nbyMonteiro etal.(2018).4Thesensoryqualityofflavor-based\\nproductswasanalyzed, alongside theirpsychophysical models,',\n",
              " 'Experimental studiesinflavorengineering wereperformed\\nbyMonteiro etal.(2018).4Thesensoryqualityofflavor-based\\nproductswasanalyzed, alongside theirpsychophysical models,\\nthroughchromatographic techniques. Theappliedmethod-\\nologyallowedustoevaluatedominant featuresofaromasand,\\nalso,asensorial evaluation. Inthesamecontext,theworkof\\nRodrigues etal.(2021)3bringsonareviewofthedevelopments inperformance, classification, andthedesign\\nofmixtures offragrances andperfumes. Inthisreview,an\\napproach forflavorengineering isproposed, beinganextension\\noftheoneforperfumeengineering.\\nNaturehasapproximately 2500flavorchemicals thatcanbe\\nreplicated byothersynthetic molecules. Therecreation and\\nanalysisofthesechemicals allowthediscovery ofsynthetic\\nflavorsthatarestable,cost-effectively produced, purer,and',\n",
              " 'replicated byothersynthetic molecules. Therecreation and\\nanalysisofthesechemicals allowthediscovery ofsynthetic\\nflavorsthatarestable,cost-effectively produced, purer,and\\nmorepotent.Eventhoughthepossibilities arevast,the\\ncomplexity ofcombining themolecules thatcantranslatethe\\nrightsensation asanervesignalisatrial-and-error process.2\\nMoreover, theflavorandflavor-based productdevelopment\\nmustconsider theapplicable lawandregulations, the\\nassociated healthissues,andtheenvironmental damagethat\\nthesynthetic chemicals processcancause.5Hence,flavor\\ndevelopment iscostlyandcanbeconsiderably reducedby\\nemploying newtechnologies. Therefore, scientific machine\\nlearning(SciML)canbringanewperspective tothisprocess.\\nSciMLisanotheremergent fieldthataimstoadaptmachine',\n",
              " 'employing newtechnologies. Therefore, scientific machine\\nlearning(SciML)canbringanewperspective tothisprocess.\\nSciMLisanotheremergent fieldthataimstoadaptmachine\\nlearning(ML)toolstoagivenapplication domain.Ithasbeen\\nappliedasanefficientandresource-saving methodingeneral\\nReceived: November 7,2022\\nAccepted: March3,2023\\nPublished: March15,2023\\nArticle http://pubs.acs.org/journal/acsodf\\n©2023TheAuthors.Publishedby\\nAmericanChemicalSociety\\n10875https://doi.org/10.1021/acsomega.2c07176\\nACSOmega2023,8,10875−10887\\ngameplaying,datamining,bioinformatics, andcomputational\\nchemistry.6Anotherimportant development inSciMListhe\\nimplementation ofthistechnique inmathematical physicsto\\nsolvecomputational mechanics problems. Samaniego etal.\\n(2020)7proposed theapplication ofSciMLtechniques tosolve',\n",
              " 'implementation ofthistechnique inmathematical physicsto\\nsolvecomputational mechanics problems. Samaniego etal.\\n(2020)7proposed theapplication ofSciMLtechniques tosolve\\npartialdifferential equations asanapproach tosolveengineer-\\ningproblems. Theapplication ofmachine learning and\\ncomputer scienceinchemistry hasincreased significantly. It\\nispromising indesigning, synthesizing, andgenerating\\nmolecules andmaterials.8Morespecifically, ashybut\\nincreasing trendinapplyingMLtoolscanbeseeninflavors.\\nParketal.(2021)9proposed amethodology toinnovatethe\\nfoodindustry focusedonfoodpairing.FlavorGraph is\\npresented asagraphembedding methodtorecommend food\\npairingsbasedonfoodrepresentations. Although itpresents\\nlimitations onthefood-related information availableandthe',\n",
              " 'presented asagraphembedding methodtorecommend food\\npairingsbasedonfoodrepresentations. Although itpresents\\nlimitations onthefood-related information availableandthe\\nlackofscientific evaluation oftheresultsobtained, the\\nFlavorGraph presents aninnovative application ofdeep\\nlearningintheflavorindustry. Xu(2019)10developed a\\nbachelor’s thesisthatcombined agenerative adversarial\\nnetwork (GAN)withavariational autoencoder (VAE)to\\nanalyzearecipedatabaseanddiscoverthemissingingredient\\nofrecipes.Thereferredworkpresented remarkable resultsin\\nclustering recipesofthesamegeo-ethnic cuisinegroupand\\nsearching fortheingredients. Nevertheless, thepresented\\ntechnology cannotextractormanipulate structures sincethe\\nmodelcollapses.\\nEventhoughthereareapplications ofSciMLintheflavor',\n",
              " 'searching fortheingredients. Nevertheless, thepresented\\ntechnology cannotextractormanipulate structures sincethe\\nmodelcollapses.\\nEventhoughthereareapplications ofSciMLintheflavor\\nengineering field,worksthatexplorethepotentialofSciMLin\\nthedevelopment ofnewflavorsandflavorymolecules werenot\\nyetfound.TheuseofSciMLinthispotential fieldcanbea\\nusefultoolinthesolutionofthechallenges alreadydescribed.\\nThesetoolscanbeusedasasimpleandreliablewaytoidentify\\nnewchemical molecules thatcanbesynthesized and\\nconsidered natural.ThesearetwospecificgoalsthatSciML\\ncanaddressmuchfasterthantheusualroutes.Itispossibleto\\nfindsomeworksinotherfieldsthatmakeuseofSciMLto\\nprospectnewelements foragivenapplication. Forexample,\\nMercado etal.(2021)11developed aplatform todesign',\n",
              " 'findsomeworksinotherfieldsthatmakeuseofSciMLto\\nprospectnewelements foragivenapplication. Forexample,\\nMercado etal.(2021)11developed aplatform todesign\\nmolecules usingdeepneuralnetwork architectures, the\\nGraphINVENT. However, inthefieldofflavorengineering,\\nthesetoolsneedtobereshaped tomeetthisdomain’s specific\\ndemands. Furthermore, newstrategies needtobedeveloped to\\nefficiently applytheseideasinflavorengineering. Forinstance,\\nthelimitedinformation regarding theflavorofchemical\\ncompounds isachallenge toconsider.\\nTheworkofZhangetal.(2021)12compared numerous\\ndeepmolecular generative models, including CharRNN,\\nREINVENT, AAE,VAE,ORGAN, LatentGAN andGraph-\\nINVENT. Forthisstudy,theauthorstrainedallthementioned\\nmodelsusingtheGDB-13 database, adatabase ofdrug-like',\n",
              " 'REINVENT, AAE,VAE,ORGAN, LatentGAN andGraph-\\nINVENT. Forthisstudy,theauthorstrainedallthementioned\\nmodelsusingtheGDB-13 database, adatabase ofdrug-like\\ncompounds. Intermsofoverallcompound coverage,\\nREINVENT wasthebestmodel,andORGAN presented the\\nlowestperformance. TheGraphINVENT methodperformed\\nbetterthanalltheotherdeepgenerative models(DGMs)\\nstudiedwhenconsidering theringsystemandfunctional group\\ncoverage. Thisresultisexplained throughtheprobabilistic\\nsampling ofactionsforgraphgeneration ofthismodel.\\nMeanwhile, theGAN-based modelspresented theworst\\nperformance inallthreemetricsanalyzed, theringsystem,\\nfunctional group,andmolecular coverage. Thisresultis\\nexplained bythefactthatthegenerator inthosemodelsis',\n",
              " 'performance inallthreemetricsanalyzed, theringsystem,\\nfunctional group,andmolecular coverage. Thisresultis\\nexplained bythefactthatthegenerator inthosemodelsis\\nsupposed tocopythetruedataintheadversarial training,whichdecreases thegeneralization capability. Furthermore, it\\nisimportant tohighlight thatthealternative intheflavorfield\\nistofindnewmolecules bytrial-and-error; therefore,\\ndeveloping agenerative approach forthispurposeisalready\\nimproving thestateoftheart.\\nThisworkaimstodevelopanewstandpoint inflavor\\nengineering basedonSciML.Itisproposed tobuildanew\\napproach todevelopflavorsandflavor-based products based\\nongenerative neuralnetworkmodels.\\n2.METHODOLOGY ANDRESULTS\\n2.1.Database. Thedatabaseusedinthedevelopment of\\nthisworkwasextracted fromFlavorDB’s website13througha',\n",
              " 'ongenerative neuralnetworkmodels.\\n2.METHODOLOGY ANDRESULTS\\n2.1.Database. Thedatabaseusedinthedevelopment of\\nthisworkwasextracted fromFlavorDB’s website13througha\\nwebscrapercodedeveloped forthispurpose. Theextracted\\ninformation consisted ofthePubChem ID,chemical name,\\nflavordescriptors ofthemolecule, andtheSMILES\\nrepresentation for921validmolecules. Moreover, adata\\ncuration stepwasautomatically performed toensurethe\\nqualityofthedatabaseandthatitonlyhadcanonical SMILES,\\nwhichisdescribed asfollows.\\nAnanalysisofthisdatabasewasperformed. Atotalof417\\nflavordescriptors werefound.Thefivemostcommon were\\nsweet,bitter,fruity,green,andfloral,following thisorder,\\nwhichaltogether occurred 1512times.Figure1presentsthe\\ndatabase’s 20mostcommon descriptors’ frequencies.',\n",
              " 'sweet,bitter,fruity,green,andfloral,following thisorder,\\nwhichaltogether occurred 1512times.Figure1presentsthe\\ndatabase’s 20mostcommon descriptors’ frequencies.\\nAco-occurrence heatmapwasmade,Figure2,to\\nunderstand therelationbetweenthedescriptors. Thisisan\\nimportant toolsincethesamemolecule canhavemorethan\\noneflavordescriptor associated. AsshowninFigure2,itis\\npossible tovisualize thefrequency oftheco-occurrence\\nbetweenthe20mostcommon descriptors. Also,itispossible\\ntoanalyzehowthedescriptors arecorrelated toeachother.For\\nexample, fruityco-occurs morewithsweetandgreen.This\\nanalysisisanimportant toolforflavorengineering, asit\\nprovidesinsightsintotheflavor’srelationship.\\nWiththedatabaseready,thenextstepistodefinetheinputs\\noftheproposed methodology. Asitspurposeistocreate',\n",
              " 'analysisisanimportant toolforflavorengineering, asit\\nprovidesinsightsintotheflavor’srelationship.\\nWiththedatabaseready,thenextstepistodefinetheinputs\\noftheproposed methodology. Asitspurposeistocreate\\nmolecules, theframework inputshouldbechemicalproperties,\\nsuchastypesofatoms,formalcharge,andthemaximum\\nnumberofatomspresentinthedatabase. Table1presentsthe\\nrequiredinformation, whichisdefinedfollowing theoverall\\nchemical properties foundinthedatabasebuilt.\\n2.2.GenerativeModel.DGMsarearesourceful approach\\ntoidentifypatternsoflikelihood betweensamplesandlearna\\nFigure1.Barplotofthe20mostcommon flavor’sdescriptors’\\nfrequency inthedatabase.ACSOmega http://pubs.acs.org/journal/acsodf Article\\nhttps://doi.org/10.1021/acsomega.2c07176',\n",
              " 'Figure1.Barplotofthe20mostcommon flavor’sdescriptors’\\nfrequency inthedatabase.ACSOmega http://pubs.acs.org/journal/acsodf Article\\nhttps://doi.org/10.1021/acsomega.2c07176\\nACSOmega2023,8,10875−1088710876concealed orcomplex probability distribution fromuncon-\\nstrainedandevenlydistributed samples.Thestructure ofthe\\nneuralnetworks withnumerous hiddenlayersintheDGM,if\\nsuccessfully trained,enablesthegeneration ofnewsamples\\nwithsimilarproperties totheoriginalones.Originally the\\nDGMwaspresented asacontestant tothetraditional\\nquantum-mechanical computation topredictproperties. This\\ndeeplearning technique isacost-effective computational\\nresourcetoapproximate complexhigh-dimensional probabil-\\nities.Thisclearsthewayfornewdevelopments in\\ncheminformatics regarding molecular science,suchasthe',\n",
              " 'resourcetoapproximate complexhigh-dimensional probabil-\\nities.Thisclearsthewayfornewdevelopments in\\ncheminformatics regarding molecular science,suchasthe\\nprospectofgenerating desiredmolecules.14−16\\nThefollowing figure,Figure3,describes themethodology\\nstepthatinvolvesthegenerative model.Theselection ofthetypesofneuralnetworks usedinthemethodology’s\\nconstruction isbasedontheconclusions oftheworkof\\nMercado etal.(2021).11\\nThemolecule isinthecanonical SMILES forminthe\\ndatabase, soitisnecessary toconvertfromSMILES to\\nmolecules andfrommolecules tograph.Inthisway,thegraphs\\ncanbeusedasthegenerative input.Forthispurpose, the\\nRDKitfunctions wereused,Open-Source Cheminformatics\\nSoftwareaccessible inPython.Theconversion frommolecules\\ntographsconsistsoftransforming atomsintonodesandbonds',\n",
              " 'RDKitfunctions wereused,Open-Source Cheminformatics\\nSoftwareaccessible inPython.Theconversion frommolecules\\ntographsconsistsoftransforming atomsintonodesandbonds\\nintoedges.Thesenodesandedgeshaveembeddings, inwhich\\nthechemical information associated withthemisstored.The\\nembeddings makeitpossibletounderstand therelationship\\nbetweenthecomponents ofthegraph.Hence,thegenerative\\nsystemreceivesasinputonemolecule atatimeintheformof\\ngraph.Then,thegeneration willproceedonebondatatime.\\nAdditionally, thegraphstructure hasadditional features,for\\ninstance, theadjacency matrixandedgeattributes. The\\nadjacency matrixrepresents howthenodesarerelatedto\\neachotherinasquaredmatrixwithdimensions definedbythe\\nnumberofnodesinthegraph.Theedgeattributes translatethe\\ndistancebetweentheedgesinthegraph.',\n",
              " 'adjacency matrixrepresents howthenodesarerelatedto\\neachotherinasquaredmatrixwithdimensions definedbythe\\nnumberofnodesinthegraph.Theedgeattributes translatethe\\ndistancebetweentheedgesinthegraph.\\nThemolecule inthegraphform,alongside itsassociated\\nfeatures,ispreprocessed sothatthemodelcanlearnhowto\\nconstruct anddeconstruct itproperly. Forthisinstance, the\\ncanonical deconstruction pathisfollowed, similartotheone\\nfollowedintheworkofMercado etal.(2021).11Weininger et\\nal.(1988)17definedthecanonical methodthatgivesaunique\\nchemicalstructure. Inthegraphform,eachnode(atoms)and\\nedges(bonds)arelabelednumerically according totheirtype.\\nThen,thestartingnodeisselected,andthesequential nodes’\\norderisdefinedaccording tothecanonical labelsgiven.The\\ncanonical deconstruction pathfollowsthementioned labeling',\n",
              " 'Then,thestartingnodeisselected,andthesequential nodes’\\norderisdefinedaccording tothecanonical labelsgiven.The\\ncanonical deconstruction pathfollowsthementioned labeling\\nandordertolearnhowtoconstruct anddeconstruct the\\nmolecules, aimingtolearnhowtogeneratenewones.\\nInthetrainingstep,themolecular graph,theadjacency\\ntensor(E),andthenodefeaturematrix(X)aregivenasthe\\ninputtothegated-graph neuralnetwork(GGNN).18,19\\nTheGGNNprovidesastheoutputthegraphembedding (g)\\nandthefinaltransformed nodefeaturematrix(HL).These\\noutputsaretherequiredinputtotheglobalreadoutblock,\\nusingamulti-layer perceptron (MLP)architecture asaunique\\nfeedforward artificialneuralnetwork.Theglobalreadoutblock\\nFigure2.Co-occurrence heatmapforthe20mostcommon flavor’s\\ndescriptors inthedatabase.\\nTable1.Chemical PropertyInputa',\n",
              " 'feedforward artificialneuralnetwork.Theglobalreadoutblock\\nFigure2.Co-occurrence heatmapforthe20mostcommon flavor’s\\ndescriptors inthedatabase.\\nTable1.Chemical PropertyInputa\\ntypesofatoms C,N,O,F,P,S,Cl,Br,I\\nformalcharge 0\\nmaximum numberofatoms 69\\naItshouldbepointedoutthat,inordertoavoidtheoverfitting inthe\\nmodel,thedatabaseacquiredwassplitintotrain,test,andvalidation\\nsets.60%ofthedatabasewasallocatedtotrain,following 20%fortest\\nand20%forvalidation.\\nFigure3.DGMmethodology scheme.ACSOmega http://pubs.acs.org/journal/acsodf Article\\nhttps://doi.org/10.1021/acsomega.2c07176\\nACSOmega2023,8,10875−1088710877isapplied topredicteachgraph’sactionprobability\\ndistribution (APD)toguidethemodelintheconstruction\\nofthenewgraph.\\nThefunctioning ofthedataflowintheMLPisinthe',\n",
              " 'ACSOmega2023,8,10875−1088710877isapplied topredicteachgraph’sactionprobability\\ndistribution (APD)toguidethemodelintheconstruction\\nofthenewgraph.\\nThefunctioning ofthedataflowintheMLPisinthe\\nforwarddirection, fromtheinputtotheoutput.Inthiscase,\\ntwohiddenlayersareusedinthestructure, andtheprediction\\noftheAPDisperformed bytheoutputlayer.20,21\\nThepropertyofinteresttobepredicted bytheMLP,the\\nAPD,consistsofavectorcomprising theexpectedprobability\\nforallthepossibleactionsthatcanbesampledtogeneratethe\\nnewgraph.Italsoembraces invalidactions,sothemodelmust\\nlearntosetzeroprobability forthis.TheAPDiscalculated for\\nallgraphspresentinthetrainingsetinthepreprocessing phase.\\nTherearethreeprobable actions,theprobability ofaddinga\\nnewnode(fadd),theprobability ofconnecting thelastnodein',\n",
              " 'allgraphspresentinthetrainingsetinthepreprocessing phase.\\nTherearethreeprobable actions,theprobability ofaddinga\\nnewnode(fadd),theprobability ofconnecting thelastnodein\\nthegraphtoanotherexistingone(fconn),andtheprobability of\\nfinishingthegraph(ffin).Alltheseprobabilities mustsumto\\noneforeachgraphandarethetargetvectorstobelearnedby\\nthemodelinthetrainingphase.TheAPDistheoutputofthe\\nmodel.\\nThecombination oftheGGNN,themessagepassingphase,\\nwiththeglobalreadoutblockistranslated through the\\nequations presented below,thecalculusstructure behindthe\\nsystem.TheGGNNisdefinedbyeqs1−5andisrepresented\\ninthesystembythefunctional form,eqs6−10.11,22\\n= h xv v 0\\n(1)\\n= +\\nr c h W b\\nv\\nt\\nv\\nr\\nue\\nr\\nu\\nt\\ne\\nr ( 1)\\nv i\\n k j\\nj\\nj\\nj\\nj\\nj\\njy\\n { z\\nz\\nz\\nz\\nz\\nz\\nz\\n(2)\\n= +\\nz c h W b\\nv\\nt\\nv\\nz\\nue\\nz\\nu\\nt\\ne\\nz ( 1)\\nv i\\n k j\\nj\\nj\\nj\\nj\\nj\\njy',\n",
              " '= h xv v 0\\n(1)\\n= +\\nr c h W b\\nv\\nt\\nv\\nr\\nue\\nr\\nu\\nt\\ne\\nr ( 1)\\nv i\\n k j\\nj\\nj\\nj\\nj\\nj\\njy\\n { z\\nz\\nz\\nz\\nz\\nz\\nz\\n(2)\\n= +\\nz c h W b\\nv\\nt\\nv\\nz\\nue\\nz\\nu\\nt\\ne\\nz ( 1)\\nv i\\n k j\\nj\\nj\\nj\\nj\\nj\\njy\\n { z\\nz\\nz\\nz\\nz\\nz\\nz\\n(3)\\n=\\n+\\nh r h c W( ) b\\nv\\nt\\nv\\nuev\\nt\\nu\\nt\\ne\\n( 1)\\nv i\\n k j\\nj\\nj\\nj\\nj\\nj\\njy\\n { z\\nz\\nz\\nz\\nz\\nz\\nz\\n(4)\\n=+h z h z h (1 )vt\\n v t\\n v i\\n v t\\n v t\\n( 1)\\n(5)\\nwherehv0isthenodefeaturevectorfortheinitialnodevatthe\\nGGNNlayerandisequaltoitsnodefeaturevectorinthe\\ngraph;rvtisaGRU’sgateinthespecificMLPlayer,t,and\\nrelativetothenodev;σisthesigmoidfunction; cv=cvz=cvr=\\n||v1\\narenormalization constants;\\nv isthesetofneighbor\\nnodesforv;uisaspecificnodeinthegraph;\\nW e r isatrainable\\nweighttensorinrregarding theedgelabel,\\ne;bisalearnable\\nparameter;zisalsoaGRU’sgate; ρisanon-linear function;\\nand⊙isanelement-wise multiplication.\\n=h xi i 0\\n(6)\\n=\\n+',\n",
              " 'W e r isatrainable\\nweighttensorinrregarding theedgelabel,\\ne;bisalearnable\\nparameter;zisalsoaGRU’sgate; ρisanon-linear function;\\nand⊙isanelement-wise multiplication.\\n=h xi i 0\\n(6)\\n=\\n+\\nm he MLP()\\ni\\nl\\nvj\\nl\\nij\\n1 e\\nj vi()\\n(7)\\n=+ +h m h GRU( ,)il\\n i l\\n i l 1 1\\n(8)\\nl L\\n(9)\\nwheremil+1andhil+1aretheincoming messages andhidden\\nstatesofnodevi,respectively; eijistheedgefeaturevectorfortheedgeconnectingviandvj;lisaGNNlayerindex;andLis\\nthefinalGNNlayerindex.\\n=\\n[ ]\\ng h h h (MLP(\\n)) tanh((M\\nLP( , ))\\nvi\\nL\\ni\\nL\\ni\\na b 0\\n i\\n(10)\\nwheregisthefinalgraphembedding.\\nTheglobalreadoutblockistranslated byeqs11−16,\\npresented below.11Theactivation functionoftheblockisthe\\nSoftMaxfunction, whichconvertsavectorofnumbers intoa\\nvectorofprobabilities. Asageneralization ofthesigmoid',\n",
              " 'presented below.11Theactivation functionoftheblockisthe\\nSoftMaxfunction, whichconvertsavectorofnumbers intoa\\nvectorofprobabilities. Asageneralization ofthesigmoid\\nfunction,thisfunctionislargelyappliedinSciMLtonormalize\\nweighted sumvalueoutputs,sotheprobabilities sumtoone.23\\n= f H MLP ( )L\\nadd add,1\\n(11)\\n= f H MLP ( )L\\nconn conn,1\\n(12)\\n= [] f f g MLP ( ,)addadd,2\\n add\\n(13)\\n= [] f f g MLP ( ,)conn conn,2\\n conn\\n(14)\\n= f g MLP ()addfin,2\\n(15)\\n= [ ] f f f APDSOFTMAX( ,, ) add conn fi n\\n(16)\\nThetrainingphaseofthissystem,GGNNandglobal\\nreadoutblock,isexecuted inminibatches.Theactivation\\nfunctionofthemodelisthescaledexponential linearunit\\n(SELU), presented ineqs17and18,whichisappliedafter\\neverylinearlayerintheMLP.24Themodeltraininglossis\\ngivenbytheKullback−Leibler divergence betweenthetarget',\n",
              " '(SELU), presented ineqs17and18,whichisappliedafter\\neverylinearlayerintheMLP.24Themodeltraininglossis\\ngivenbytheKullback−Leibler divergence betweenthetarget\\nAPDandpredicted APD.Kullback andLeibler(1951)25\\nintroduced theKullback−Leibler divergence asameasureof\\ndiscrepancy betweenprobabilities basedoninformation.26\\n= > fx x x () ,if 0\\n(17)\\n=< fx x x () (exp() 1), if0\\n(18)\\nwhere α=1.6733andλ=1.0507.\\nMoreover, allthemodelsusetheAdamoptimizer.\\nIntroduced byKingmaandBa(2017),27theAdamoptimizer\\nisastraightforward first-order gradient-based optimization\\nalgorithm. Thisoptimization functioncarriesoutthesparse\\ngradients andnon-stationary objectives. TheAdam-defined\\nparameters arepresented inSupporting Information, Table\\nS1.28\\nThetrainingmodelsareevaluated bysampling graphsin',\n",
              " 'gradients andnon-stationary objectives. TheAdam-defined\\nparameters arepresented inSupporting Information, Table\\nS1.28\\nThetrainingmodelsareevaluated bysampling graphsin\\nestablished intervalsofepochs.Duringthisstep,theevaluation\\nmetricsarecalculated usingthegenerated graphsofthisphase,\\nTable2.Theuniformity-completeness Jensen-Shannon\\ndivergence (UC-JSD) isoneoftheevaluation metrics\\nTable2.Evaluation Metrics\\nmetrics description\\nPV percentage ofvalidmolecules intheset\\nPU percentage ofuniquemolecules intheset\\nPPT percentage ofmolecules thatwerefinishedthroughsampling of\\nfinishaction\\nPVPT percentage ofvalidmolecules inthesetofPPTmolecules\\nνav averagenumberofnodespergraphintheset\\nεav averagenumberofedgespernode',\n",
              " 'finishaction\\nPVPT percentage ofvalidmolecules inthesetofPPTmolecules\\nνav averagenumberofnodespergraphintheset\\nεav averagenumberofedgespernode\\nUC-JSD uniformity-completeness Jensen−Shannon divergenceACSOmega http://pubs.acs.org/journal/acsodf Article\\nhttps://doi.org/10.1021/acsomega.2c07176\\nACSOmega2023,8,10875−1088710878presented. ThismetricisrelatedtotheKullback−Leibler\\ndivergence anditsapplication toanaveragedistribution.29In\\nthiswork,theUC-JSDcalculates thedistribution ofnegative\\nlog-likelihood persampledactionineachset.\\nAmolecule isconsidered validifthetotalcountof\\nhydrogens tobeaddedisaccording tothetypeofatoms,\\nexplicitbonds,andformalchargesofthemolecule. Afterthe\\naddition ofthehydrogens, iftheyareincompatible, the\\nmolecule canstillbeeditedtosolvethisproblem. Theedition',\n",
              " 'explicitbonds,andformalchargesofthemolecule. Afterthe\\naddition ofthehydrogens, iftheyareincompatible, the\\nmolecule canstillbeeditedtosolvethisproblem. Theedition\\nisthroughtheRDKitfunction rdkit.Chem.SanitizeMol().30\\nThefunctionverifiesvalences, setaromaticity, hybridization,\\nandmolecule conjugation. Ifoneoftheanalysesfails,the\\nmolecule ismodified tosolvetheproblem. Ifthesanitizing\\nfails,anerrorisraised,andthemolecule isconsidered invalid.\\nIftheinvalidmolecule isoneoftheoutputconstituents, itis\\nrepresented as“[Xe]”.\\nThefinalphaseisthegeneration. Thegraphsandtheoutput\\nAPDaregivenastheinput.Duringthisstep,thesampled\\nactionsimplythegrowthofthenewgraphandchoices,suchas\\nthekindofatomtoadd.Moreover, thegraphconstruction can\\nbefinishedifthesampledactionistofinishorifaninvalid',\n",
              " 'actionsimplythegrowthofthenewgraphandchoices,suchas\\nthekindofatomtoadd.Moreover, thegraphconstruction can\\nbefinishedifthesampledactionistofinishorifaninvalid\\nactionoccurs.Theinvalidactionsaretheadditionofanew\\nnodeinanodethatdoesnotexistinthegraph.Connecting\\nnodesthatarealreadyconnected andaddinganodeinagraph\\nthatalreadyhasthemaximum numberofnodesarealsoinvalid\\nactions.Furthermore, thehydrogens areignoredduringthe\\ntrainingandgeneration phases.Theyareaddedaccording to\\ntheatoms’valencyinthegenerated graphs.\\nEachgraphgoesthroughthesystemonebyone;thegrowth\\niscarriedoutnodebynodeoredgebyedgeuntilitisfinished\\nandgivenasanoutput.Themodel’strainingstops,andthe\\nnumberofdefinedmolecules tobegenerated isgivenasan\\noutputaccording totheconvergence criteriaofthetraining',\n",
              " 'andgivenasanoutput.Themodel’strainingstops,andthe\\nnumberofdefinedmolecules tobegenerated isgivenasan\\noutputaccording totheconvergence criteriaofthetraining\\nloss,definedasthreesignificant figures.\\nThestructure ofthemodel’sarchitecture isdefinedthrough\\nhyperparameters. Thesevariablesaresetasameanstoguide\\nanddirectthetrainingandperformance oftheSciMLmodel.31\\nAlso,theycanbedividedintotwocategories: algorithm and\\nmodelparameters. Thealgorithm parameters consistoftuning\\nparameters encircling thenumberofepochs,thelearningrate\\ndecays,momentum, andthelearningrate.Atthesametime,\\nthemodelparameters arecomposed ofvariablessuchasthe\\nnumberoflayers,layertype,numberofneurons,andactivation\\nfunction.32Thedefinition ofthesehyperparameters hasmajor\\nimplications forthemethodology’s accuracy. Inthiswork,',\n",
              " 'numberoflayers,layertype,numberofneurons,andactivation\\nfunction.32Thedefinition ofthesehyperparameters hasmajor\\nimplications forthemethodology’s accuracy. Inthiswork,\\ntheyweredefinedthroughasensitivity analysisandcanbe\\nfoundintheSupporting Information ofthisarticle,TableS2.\\n3.RESULTS\\nTheDGMwastrainedfor1000epochs.Thetrainingwas\\nperformed inaLinuxenvironment, inaserver,througha\\nVirtualBox installedinaWindows 10system.Theserverhasan\\nAMDRyzen95900X12-CoreProcessor 3.79GHz;32.0GB\\nofinstalled RAM;anoperative systemof64bits;andan\\nNVIDIA GeForce RTX3060GPU.TheOracleVM\\nVirtualBox hasanUbuntu64-bitoperative system.Within\\ntheseconditions, thetimerequiredtotraintheneuralnetwork\\nispresented inFigure4,inwhichthelogarithm ofthetimein\\nminutesisrepresented foreachtrainingepoch.',\n",
              " 'theseconditions, thetimerequiredtotraintheneuralnetwork\\nispresented inFigure4,inwhichthelogarithm ofthetimein\\nminutesisrepresented foreachtrainingepoch.\\nInFigure4itispossibletoverifythattherequiredtimeto\\ntraintheneuralnetworkisapproximately 11,000min,which\\ncorresponds to7daysand15hoftraining.Considering these\\ncomputational costsfortrainingamodel,thehyperparameters’\\noptimization wascarriedoutthroughsensitivity analysis.In\\nthisway,findingagoodmodelwithinareasonable\\ncomputational effortwaspossible.\\nTheepochthatpresented thebestresultswaschosenbased\\nontheminimization oftheUC-JSDvaluesandtheaverage\\nlikelihood oftraining,validation, andgeneration. Epoch780\\nwasdefinedasthegeneration epoch,asitpresented the\\nminimal UC-JSD between alltheepochs(UC-JSD of\\n−0.0216).',\n",
              " 'likelihood oftraining,validation, andgeneration. Epoch780\\nwasdefinedasthegeneration epoch,asitpresented the\\nminimal UC-JSD between alltheepochs(UC-JSD of\\n−0.0216).\\nFurthermore, 200newlydesignedmolecules weregenerated\\nbasedontheepoch780,and197ofthosewereconsidered\\nvalidbythenetwork.Themolecules arepresented inFigures5\\nand6.\\nThedatatreatment andgraphspresented inthisworkwere\\nimplemented inGoogleColabnotebook inPython.The\\nresultsforthelearningratearepresented inFigure7.Itis\\npossibletovisualizethatthegeneration epochpresentsahigh\\nvalueforthelearningrate,butitisnotthehighestvalue.This\\nnoticeisimportant becausethehigherthevalueofthelearning\\nrate,themorebiasedistheneuralnetwork’s prediction.\\nHowever, theloweristhevalue,themoreoverfitted isthe\\nneuralnetwork.',\n",
              " 'noticeisimportant becausethehigherthevalueofthelearning\\nrate,themorebiasedistheneuralnetwork’s prediction.\\nHowever, theloweristhevalue,themoreoverfitted isthe\\nneuralnetwork.\\nInordertoanalyzetheconvergence withrespecttothe\\nnumberofepochs,agraphtocomparetheaveragetrainloss\\nandaveragevalidlossforeachepochispresented inFigure8,\\nFigure4.Logarithm oftimeinminutesforeachtrainingepoch.ACSOmega http://pubs.acs.org/journal/acsodf Article\\nhttps://doi.org/10.1021/acsomega.2c07176\\nACSOmega2023,8,10875−1088710879inwhichthedatarepresented bythecolorbluedenotethe\\naveragevalidloss,thedatarepresented bythecolorcyan\\ndenotetheaveragetrainloss,andtheredlineistheresultfor\\nthegenerative epochchosen.Thetraininglossisanalyzedto\\nevaluatethedatafittingofthemodel.Itiscalculated bythe',\n",
              " 'denotetheaveragetrainloss,andtheredlineistheresultfor\\nthegenerative epochchosen.Thetraininglossisanalyzedto\\nevaluatethedatafittingofthemodel.Itiscalculated bythe\\nsumoftheerrorsineachgraphinthetrainingset.Meanwhile,\\nthevalidation lossisanalyzed toevaluate themodel’s\\nperformance onthevalidation set.Itiscalculated inthe\\nsamewayasthetrainingloss,i.e.,itsumstheerrorsforeach\\ngraphinthevalidation set.\\nInFigure8itispossibletoverifythatfromepoch0to500,\\ntheaveragetrainlossdecreases quickly,thenincreases, and\\nstartsslowingdecreasing. Incontrast, theaveragevalidloss\\nincreases slowly,implyingariskofoverfitting. However, from\\nepoch500to800,theaveragetrainlossandvalidlosspresentagoodfitting.Fromepoch900to1000,itispossibletovisualize\\nanincreaseoftheaveragevalidlossrelativetotheaveragetrain',\n",
              " 'epoch500to800,theaveragetrainlossandvalidlosspresentagoodfitting.Fromepoch900to1000,itispossibletovisualize\\nanincreaseoftheaveragevalidlossrelativetotheaveragetrain\\nloss,whiletheaveragetrainlossstartsdecreasing. Thereis\\nanothersymptom ofoverfitting. Inthiscase,thebestsolution\\nistostopthetrainingaprevious epochwhereabetter\\nperformance wasobserved. Basedonthisanalysis, the\\ngeneration epochshouldbechosenbetweentheepochs500\\nand800.\\nBasedontheconvergence andonthepercentage ofvalid\\nmolecules intheset(PV),percentage ofuniquemolecules in\\ntheset(PU),percentage ofmolecules thatwerefinished\\nthroughthesamplingoffinishaction(PPT),andpercentage of\\nvalidmolecules inthesetofPPTmolecule (PVPT)metrics,\\nthegeneration epochchosenwasthe780.Theconvergence',\n",
              " 'throughthesamplingoffinishaction(PPT),andpercentage of\\nvalidmolecules inthesetofPPTmolecule (PVPT)metrics,\\nthegeneration epochchosenwasthe780.Theconvergence\\nFigure5.Newdesigned molecules fromDGMpart1.ACSOmega http://pubs.acs.org/journal/acsodf Article\\nhttps://doi.org/10.1021/acsomega.2c07176\\nACSOmega2023,8,10875−1088710880andevaluation resultsforthegeneration epocharepresented\\ninTable3.\\nInordertohaveabettervisualization oftheobtainedresults\\nfromtheDGMduringtrainingandvalidation, Figure9\\npresentstheaveragelikelihood permolecule intrainingand\\nvalidation. Inthiscase,thedatarepresented bythecolorblue\\ndenotetheaveragelikelihood permolecule invalidation, the\\ndatarepresented bythecolorgreendenotetheaverage\\nlikelihood permolecule intraining,andtheredlinerepresents',\n",
              " 'denotetheaveragelikelihood permolecule invalidation, the\\ndatarepresented bythecolorgreendenotetheaverage\\nlikelihood permolecule intraining,andtheredlinerepresents\\ntheresultforthegenerative epochchosen.Theaverage\\nlikelihood metricisanalyzedtoverifythetrainandvalidation\\nperformance, toobtaininformation onhowlikelyitistoobtain\\nadatasetastheoriginalgaveasinput.Havingthatinmind,thehigherthevalueoflikelihood is,thebetterthefitofthemodel\\nis.InFigure9,itispossibletovisualize thatthechosen\\ngenerative epochdoesnotpresentthehighestaverage\\nlikelihood forthetrainingandthevalidation. However, itis\\noneofthehighestpointsoftheaveragelikelihood forboth\\ntrainingandvalidation. Itwasconsidered goodenough\\nregarding alltheselectedmetricsforthegenerative epoch,as\\nmentioned whendiscussing Figure8andTable3.',\n",
              " 'trainingandvalidation. Itwasconsidered goodenough\\nregarding alltheselectedmetricsforthegenerative epoch,as\\nmentioned whendiscussing Figure8andTable3.\\nTheanalysesofthegeneration resultsregarding thechemical\\nstructureoftheobtainedmolecules canbecarriedoutthrough\\nthevisualization ofFigure10.Inthisfigure,thedata\\nrepresented bythecolorbluedenotetheaveragenumberof\\nnodesintheresulting graphs,representing atomsinthe\\nFigure6.Newdesigned molecules fromDGMpart2.ACSOmega http://pubs.acs.org/journal/acsodf Article\\nhttps://doi.org/10.1021/acsomega.2c07176\\nACSOmega2023,8,10875−1088710881molecular structure; thedatarepresented bythegreencolor\\ndenotetheaveragenumberofedgesintheresulting graphs,\\nrepresenting thebondsperatominthemolecular structure;\\nandtheverticalredlinehighlights theresulting average',\n",
              " 'denotetheaveragenumberofedgesintheresulting graphs,\\nrepresenting thebondsperatominthemolecular structure;\\nandtheverticalredlinehighlights theresulting average\\nnumberofnodesandedgespernodeintheresultinggraphsof\\nthegenerative epochchosen.Itispossibletovisualizethatthe\\naveragenumberofnodesrangesbetweenthreeandfournodes\\npergraph,whiletheaveragenumberofedgespernodeis\\naroundtwo.Forthegenerative epoch,theaveragenumberof\\nnodesandedgespernodeisbetweenthecommonrangeforall\\ntheepochsinthetraining,notpresenting anoutlier.However,\\nitisimportant tonoticethattheaverageiscalculated countinginvalidmolecules. So,thisanalysisisonlyperformed toverify\\nthepresenceofoutliersandiftheepochs’resultsarecongruent\\nwithinthemselves.\\nToevaluate theobtained results,the200molecules',\n",
              " 'thepresenceofoutliersandiftheepochs’resultsarecongruent\\nwithinthemselves.\\nToevaluate theobtained results,the200molecules\\ngenerated werestudiedandanalyzed. Thegeneralresults\\nregarding thenumberofmolecules thatarevalid,invalid,\\nexistent,non-existent, alreadyusedintheflavorindustry,and\\nnotusedintheflavorindustryarepresented inTable4.\\nAsalreadymentioned, thegeneration basedonthetraining\\nepoch780obtained 197validmolecules. Considering those\\n197molecules, 2ofthem,eventhoughtheyareconsidered\\nvalidandhavecanonical SMILES, arenotrecognized bythe\\nFigure7.Generative model’slearningrate.\\nFigure8.Averagetrainandvalidlossforthe1000trainingepochs.Table3.Convergence andEvaluation Results\\nepoch 780\\naveragelikelihood permolecule invalidation 26.04\\naveragelikelihood permolecule intraining 1.85',\n",
              " 'epoch 780\\naveragelikelihood permolecule invalidation 26.04\\naveragelikelihood permolecule intraining 1.85\\naveragelikelihood permolecule ingeneration 0.32\\nUC-JSD −0.02\\nlearningrate 9.90 ×10−5\\naveragetrainloss 0.41\\naveragevalidloss 4.05\\nPV(0-1) 1.00\\nPVPT(0-1) 1.00\\nPPT(0-1) 1.00\\nruntime/s 129228.44\\nνav 8.35\\nεav 1.96\\nPU(0-1) 0.95ACSOmega http://pubs.acs.org/journal/acsodf Article\\nhttps://doi.org/10.1021/acsomega.2c07176\\nACSOmega2023,8,10875−1088710882ChemSpider33andPubChem34onlinedatabases. Thenon-\\nexistentmolecules SMILESareshownineqs19and20.\\n= = CCCC( O) OCC(C)CCC C C(C)C\\n(19)\\n= = CC1 CCCN C(C)CC1\\n(20)\\nItisimportant tonoticethatthegenerative modelproposed\\nthroughout thisworkhasbeenimplemented inordertoobtain',\n",
              " '= = CCCC( O) OCC(C)CCC C C(C)C\\n(19)\\n= = CC1 CCCN C(C)CC1\\n(20)\\nItisimportant tonoticethatthegenerative modelproposed\\nthroughout thisworkhasbeenimplemented inordertoobtain\\nanddesignmolecules tobeappliedintheflavorindustry.However, itdoesnotimplythatthegenerated molecules do\\nnotalreadyexistorthattheyarenotalreadyemployed inother\\nindustrial sectors.Considering the200molecules obtained\\nthroughSciML,only1%donothaveadefinedreactionpathor\\nexistintheonlinedatabases. Thisresultshowsthatthe\\ngenerative modelcanbeconfidently appliedtoobtain\\nmolecules tocompose flavor-based products, notnecessarily\\nrequiring tobenewlysynthesized.\\nFigure9.Averagelikelihood permolecule intrainingandinvalidation forthe1000trainingepochs.',\n",
              " 'molecules tocompose flavor-based products, notnecessarily\\nrequiring tobenewlysynthesized.\\nFigure9.Averagelikelihood permolecule intrainingandinvalidation forthe1000trainingepochs.\\nFigure10.Averagenumberofedgesandnodesforthe1000trainingepochs.ACSOmega http://pubs.acs.org/journal/acsodf Article\\nhttps://doi.org/10.1021/acsomega.2c07176\\nACSOmega2023,8,10875−1088710883Whenstudying themolecules obtained through the\\ngeneration modelregarding theapplication intheflavor\\nindustry, 77.5%ofthemarealreadyemployed asflavoring\\nagentsorflavorenhancers. Theremaining 20%ofvalid\\nmolecules thatarenotyetemployed inthefocusedsectormust\\nbestudied,andtheirchemicalstructuremustbeanalyzedtobe\\nconsidered forthe“newrole”oftheflavoringagent.Actually,\\n15%ofthemcanbeconsidered asanewapproach toa',\n",
              " 'bestudied,andtheirchemicalstructuremustbeanalyzedtobe\\nconsidered forthe“newrole”oftheflavoringagent.Actually,\\n15%ofthemcanbeconsidered asanewapproach toa\\nflavoring agent,whiletheother5%aretoxicmolecules.\\nConcerning thetoxicmolecules, thefivemolecules obtained\\nareclassified ascarcinogenic. Meanwhile, thepercentage of\\nmolecules thatarenotyetemployed intheflavorindustryis\\ncomposed ofmolecules usedinthepharmaceutical industry,\\npackage production, lubricants, solvents, otherflavors’\\nprecursor, orperfumes. Asanexample, threeoftheobtained\\nmolecules thatareinthis15%aregoingtobeanalyzedinthe\\nfollowing paragraphs.\\nThefirstmolecule tobeanalyzedisthe2-hydroxy-6-propan-\\n2-ylcyclohepta-2,4,6-trien-1-one (CASnumber:499-44-5), also\\nknownasHinokitiol, shownineq21andFigure11.Itisa',\n",
              " 'following paragraphs.\\nThefirstmolecule tobeanalyzedisthe2-hydroxy-6-propan-\\n2-ylcyclohepta-2,4,6-trien-1-one (CASnumber:499-44-5), also\\nknownasHinokitiol, shownineq21andFigure11.Itisa\\nnaturalmolecule thatisfoundinatraditional Japanese tree,\\nTaiwanese ninokitree,usedinthepharmaceutical industryto\\nregulateirontransport inanimals.Itisalsoapplicable to\\npreventinfections, asanantistatic, asafragrance component,\\nandinhairconditioning products. Thismolecule isalready\\nusedasafoodadditiveinJapan.However, intheliterature, itis\\nnotpossibletofindinformation aboutitbeingusedinthe\\nflavorindustryworldwide. Itisaninteresting molecule tobe\\nanalyzed andconsidered tobeappliedintheflavorindustry\\nconsidering thepharmacological properties, thevastapplica-',\n",
              " 'flavorindustryworldwide. Itisaninteresting molecule tobe\\nanalyzed andconsidered tobeappliedintheflavorindustry\\nconsidering thepharmacological properties, thevastapplica-\\ntionindifferentindustries sectors,thefactthatitispossibleto\\nbenaturallyextracted fromCupressaceae family’strees,andthat\\nitwasalreadyapproved asnotcarcinogenic inCanada.35,36\\n= CC(C)c1c ccc(O)c( O )c1\\n(21)Thefollowing obtained molecule tobeanalyzedisthe1,3-\\nbenzodioxole-5-carboxylic acid(CASnumber:94-53-1), also\\nknownasmethyprylon, shownineq22andFigure12.This\\nmolecule isusedinthecosmeticindustryforskinconditioning\\nandprotection. Itcanbenaturally extracted fromthe\\nNectandraamazonum andPongamiapinnatavar.pinnata,\\nplantsfromtropicalbiomewhichareusedinmedicine. This\\nmolecule hasantifungal andskinhealingproperties. Itis']"
            ]
          },
          "metadata": {},
          "execution_count": 32
        }
      ]
    },
    {
      "cell_type": "code",
      "source": [
        "\n",
        "astra_vector_store.add_texts(texts[:50])\n",
        "\n",
        "print(\"Inserted %i headlines.\" % len(texts[:50]))\n",
        "\n",
        "astra_vector_index = VectorStoreIndexWrapper(vectorstore=astra_vector_store)"
      ],
      "metadata": {
        "id": "CM8OE4IfrBON",
        "colab": {
          "base_uri": "https://localhost:8080/"
        },
        "outputId": "7debebad-fd07-404d-fac9-6c81d4b14929"
      },
      "execution_count": 33,
      "outputs": [
        {
          "output_type": "stream",
          "name": "stdout",
          "text": [
            "Inserted 50 headlines.\n"
          ]
        }
      ]
    },
    {
      "cell_type": "code",
      "source": [
        "first_question = True\n",
        "while True:\n",
        "    if first_question:\n",
        "        query_text = input(\"\\nEnter your question (or type 'quit' to exit): \").strip()\n",
        "    else:\n",
        "        query_text = input(\"\\nWhat's your next question (or type 'quit' to exit): \").strip()\n",
        "\n",
        "    if query_text.lower() == \"quit\":\n",
        "        break\n",
        "\n",
        "    if query_text == \"\":\n",
        "        continue\n",
        "\n",
        "    first_question = False\n",
        "\n",
        "    print(\"\\nQUESTION: \\\"%s\\\"\" % query_text)\n",
        "    answer = astra_vector_index.query(query_text, llm=llm).strip()\n",
        "    print(\"ANSWER: \\\"%s\\\"\\n\" % answer)\n",
        "\n",
        "    print(\"FIRST DOCUMENTS BY RELEVANCE:\")\n",
        "    for doc, score in astra_vector_store.similarity_search_with_score(query_text, k=4):\n",
        "        print(\"    [%0.4f] \\\"%s ...\\\"\" % (score, doc.page_content[:84]))"
      ],
      "metadata": {
        "id": "0tEfkvpCrCUa",
        "colab": {
          "base_uri": "https://localhost:8080/"
        },
        "outputId": "e5bb695f-5c47-486b-e3cc-ebdef572fe09"
      },
      "execution_count": 34,
      "outputs": [
        {
          "output_type": "stream",
          "name": "stdout",
          "text": [
            "\n",
            "Enter your question (or type 'quit' to exit): what neural networks are used for synthesis of flavor molecules?\n",
            "\n",
            "QUESTION: \"what neural networks are used for synthesis of flavor molecules?\"\n"
          ]
        },
        {
          "output_type": "stream",
          "name": "stderr",
          "text": [
            "WARNING:cassandra.protocol:Server warning: Top-K queries can only be run with consistency level ONE / LOCAL_ONE / NODE_LOCAL. Consistency level LOCAL_QUORUM was requested. Downgrading the consistency level to LOCAL_ONE.\n"
          ]
        },
        {
          "output_type": "stream",
          "name": "stdout",
          "text": [
            "ANSWER: \"The neural networks used for synthesis of flavor molecules in this context are deep generative models.\"\n",
            "\n",
            "FIRST DOCUMENTS BY RELEVANCE:\n"
          ]
        },
        {
          "output_type": "stream",
          "name": "stderr",
          "text": [
            "WARNING:cassandra.protocol:Server warning: Top-K queries can only be run with consistency level ONE / LOCAL_ONE / NODE_LOCAL. Consistency level LOCAL_QUORUM was requested. Downgrading the consistency level to LOCAL_ONE.\n"
          ]
        },
        {
          "output_type": "stream",
          "name": "stdout",
          "text": [
            "    [0.9363] \"replicated byothersynthetic molecules. Therecreation and\n",
            "analysisofthesechemicals al ...\"\n",
            "    [0.9311] \"ongenerative neuralnetworkmodels.\n",
            "2.METHODOLOGY ANDRESULTS\n",
            "2.1.Database. Thedatabase ...\"\n",
            "    [0.9304] \"context, thisworkbringsupascientific machine learning\n",
            "(SciML) approach toaddressthis ...\"\n",
            "    [0.9291] \"Generating FlavorMoleculesUsingScientificMachineLearning\n",
            "LuanaP.Queiroz,CarineM.Rebe ...\"\n",
            "\n",
            "What's your next question (or type 'quit' to exit): what are GGNN and what is its use\n",
            "\n",
            "QUESTION: \"what are GGNN and what is its use\"\n"
          ]
        },
        {
          "output_type": "stream",
          "name": "stderr",
          "text": [
            "WARNING:cassandra.protocol:Server warning: Top-K queries can only be run with consistency level ONE / LOCAL_ONE / NODE_LOCAL. Consistency level LOCAL_QUORUM was requested. Downgrading the consistency level to LOCAL_ONE.\n"
          ]
        },
        {
          "output_type": "stream",
          "name": "stdout",
          "text": [
            "ANSWER: \"GGNN stands for Gated Graph Neural Network. It is a type of neural network used for processing graph-structured data, where the data is represented as a graph consisting of nodes and edges. GGNN is used for tasks such as generating and deconstructing molecules.\"\n",
            "\n",
            "FIRST DOCUMENTS BY RELEVANCE:\n"
          ]
        },
        {
          "output_type": "stream",
          "name": "stderr",
          "text": [
            "WARNING:cassandra.protocol:Server warning: Top-K queries can only be run with consistency level ONE / LOCAL_ONE / NODE_LOCAL. Consistency level LOCAL_QUORUM was requested. Downgrading the consistency level to LOCAL_ONE.\n"
          ]
        },
        {
          "name": "stdout",
          "output_type": "stream",
          "text": [
            "    [0.8674] \"Then,thestartingnodeisselected,andthesequential nodes’\n",
            "orderisdefinedaccording tothe ...\"\n",
            "    [0.8581] \"REINVENT, AAE,VAE,ORGAN, LatentGAN andGraph-\n",
            "INVENT. Forthisstudy,theauthorstraineda ...\"\n",
            "    [0.8580] \"feedforward artificialneuralnetwork.Theglobalreadoutblock\n",
            "Figure2.Co-occurrence heat ...\"\n",
            "    [0.8563] \"W e r isatrainable\n",
            "weighttensorinrregarding theedgelabel,\n",
            "e;bisalearnable\n",
            "parameter; ...\"\n",
            "\n",
            "What's your next question (or type 'quit' to exit): quit\n"
          ]
        }
      ]
    }
  ]
}